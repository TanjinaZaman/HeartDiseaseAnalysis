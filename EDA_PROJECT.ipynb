{
 "cells": [
  {
   "cell_type": "markdown",
   "id": "563a8188-f631-4dea-adf7-e23ed3868231",
   "metadata": {},
   "source": [
    "## Importing libraray"
   ]
  },
  {
   "cell_type": "code",
   "execution_count": 313,
   "id": "a2749716-fe6b-4656-8a81-8cfbed4e231c",
   "metadata": {},
   "outputs": [
    {
     "name": "stdout",
     "output_type": "stream",
     "text": [
      "time: 7.43 ms (started: 2024-08-30 15:52:34 -05:00)\n"
     ]
    }
   ],
   "source": [
    "import pandas as pd\n",
    "import numpy as np\n",
    "import matplotlib.pyplot as plt\n",
    "import seaborn as sns\n",
    "import cufflinks as cf\n",
    "%matplotlib inline\n",
    "from sklearn.metrics import classification_report,confusion_matrix,accuracy_score\n",
    "from sklearn.preprocessing import StandardScaler\n",
    "from sklearn.model_selection import  RandomizedSearchCV, train_test_split , GridSearchCV\n",
    "from sklearn.feature_selection import SelectKBest, f_classif\n",
    "from sklearn.ensemble import RandomForestClassifier\n",
    "from sklearn.neighbors import KNeighborsClassifier\n",
    "from sklearn.svm import SVC\n",
    "from mlxtend.plotting import plot_confusion_matrix\n",
    "#To turn off warning messages.\n",
    "import warnings\n",
    "warnings.filterwarnings('ignore')\n",
    "import plotly.express as px\n",
    "import seaborn as sns"
   ]
  },
  {
   "cell_type": "code",
   "execution_count": 314,
   "id": "4f3eb810-ad9a-4253-9b82-cc904f631b34",
   "metadata": {},
   "outputs": [
    {
     "name": "stdout",
     "output_type": "stream",
     "text": [
      "time: 18.4 ms (started: 2024-08-30 15:52:34 -05:00)\n"
     ]
    }
   ],
   "source": [
    "df = pd.read_csv('heart_statlog_cleveland_hungary_final.csv')"
   ]
  },
  {
   "cell_type": "code",
   "execution_count": 315,
   "id": "2ab839a2-5b62-48ad-b422-7f2b6c42d7c8",
   "metadata": {},
   "outputs": [
    {
     "data": {
      "text/html": [
       "<div>\n",
       "<style scoped>\n",
       "    .dataframe tbody tr th:only-of-type {\n",
       "        vertical-align: middle;\n",
       "    }\n",
       "\n",
       "    .dataframe tbody tr th {\n",
       "        vertical-align: top;\n",
       "    }\n",
       "\n",
       "    .dataframe thead th {\n",
       "        text-align: right;\n",
       "    }\n",
       "</style>\n",
       "<table border=\"1\" class=\"dataframe\">\n",
       "  <thead>\n",
       "    <tr style=\"text-align: right;\">\n",
       "      <th></th>\n",
       "      <th>age</th>\n",
       "      <th>sex</th>\n",
       "      <th>chest pain type</th>\n",
       "      <th>resting bp s</th>\n",
       "      <th>cholesterol</th>\n",
       "      <th>fasting blood sugar</th>\n",
       "      <th>resting ecg</th>\n",
       "      <th>max heart rate</th>\n",
       "      <th>exercise angina</th>\n",
       "      <th>oldpeak</th>\n",
       "      <th>ST slope</th>\n",
       "      <th>target</th>\n",
       "    </tr>\n",
       "  </thead>\n",
       "  <tbody>\n",
       "    <tr>\n",
       "      <th>0</th>\n",
       "      <td>40</td>\n",
       "      <td>1</td>\n",
       "      <td>2</td>\n",
       "      <td>140</td>\n",
       "      <td>289</td>\n",
       "      <td>0</td>\n",
       "      <td>0</td>\n",
       "      <td>172</td>\n",
       "      <td>0</td>\n",
       "      <td>0.0</td>\n",
       "      <td>1</td>\n",
       "      <td>0</td>\n",
       "    </tr>\n",
       "    <tr>\n",
       "      <th>1</th>\n",
       "      <td>49</td>\n",
       "      <td>0</td>\n",
       "      <td>3</td>\n",
       "      <td>160</td>\n",
       "      <td>180</td>\n",
       "      <td>0</td>\n",
       "      <td>0</td>\n",
       "      <td>156</td>\n",
       "      <td>0</td>\n",
       "      <td>1.0</td>\n",
       "      <td>2</td>\n",
       "      <td>1</td>\n",
       "    </tr>\n",
       "    <tr>\n",
       "      <th>2</th>\n",
       "      <td>37</td>\n",
       "      <td>1</td>\n",
       "      <td>2</td>\n",
       "      <td>130</td>\n",
       "      <td>283</td>\n",
       "      <td>0</td>\n",
       "      <td>1</td>\n",
       "      <td>98</td>\n",
       "      <td>0</td>\n",
       "      <td>0.0</td>\n",
       "      <td>1</td>\n",
       "      <td>0</td>\n",
       "    </tr>\n",
       "    <tr>\n",
       "      <th>3</th>\n",
       "      <td>48</td>\n",
       "      <td>0</td>\n",
       "      <td>4</td>\n",
       "      <td>138</td>\n",
       "      <td>214</td>\n",
       "      <td>0</td>\n",
       "      <td>0</td>\n",
       "      <td>108</td>\n",
       "      <td>1</td>\n",
       "      <td>1.5</td>\n",
       "      <td>2</td>\n",
       "      <td>1</td>\n",
       "    </tr>\n",
       "    <tr>\n",
       "      <th>4</th>\n",
       "      <td>54</td>\n",
       "      <td>1</td>\n",
       "      <td>3</td>\n",
       "      <td>150</td>\n",
       "      <td>195</td>\n",
       "      <td>0</td>\n",
       "      <td>0</td>\n",
       "      <td>122</td>\n",
       "      <td>0</td>\n",
       "      <td>0.0</td>\n",
       "      <td>1</td>\n",
       "      <td>0</td>\n",
       "    </tr>\n",
       "    <tr>\n",
       "      <th>...</th>\n",
       "      <td>...</td>\n",
       "      <td>...</td>\n",
       "      <td>...</td>\n",
       "      <td>...</td>\n",
       "      <td>...</td>\n",
       "      <td>...</td>\n",
       "      <td>...</td>\n",
       "      <td>...</td>\n",
       "      <td>...</td>\n",
       "      <td>...</td>\n",
       "      <td>...</td>\n",
       "      <td>...</td>\n",
       "    </tr>\n",
       "    <tr>\n",
       "      <th>1185</th>\n",
       "      <td>45</td>\n",
       "      <td>1</td>\n",
       "      <td>1</td>\n",
       "      <td>110</td>\n",
       "      <td>264</td>\n",
       "      <td>0</td>\n",
       "      <td>0</td>\n",
       "      <td>132</td>\n",
       "      <td>0</td>\n",
       "      <td>1.2</td>\n",
       "      <td>2</td>\n",
       "      <td>1</td>\n",
       "    </tr>\n",
       "    <tr>\n",
       "      <th>1186</th>\n",
       "      <td>68</td>\n",
       "      <td>1</td>\n",
       "      <td>4</td>\n",
       "      <td>144</td>\n",
       "      <td>193</td>\n",
       "      <td>1</td>\n",
       "      <td>0</td>\n",
       "      <td>141</td>\n",
       "      <td>0</td>\n",
       "      <td>3.4</td>\n",
       "      <td>2</td>\n",
       "      <td>1</td>\n",
       "    </tr>\n",
       "    <tr>\n",
       "      <th>1187</th>\n",
       "      <td>57</td>\n",
       "      <td>1</td>\n",
       "      <td>4</td>\n",
       "      <td>130</td>\n",
       "      <td>131</td>\n",
       "      <td>0</td>\n",
       "      <td>0</td>\n",
       "      <td>115</td>\n",
       "      <td>1</td>\n",
       "      <td>1.2</td>\n",
       "      <td>2</td>\n",
       "      <td>1</td>\n",
       "    </tr>\n",
       "    <tr>\n",
       "      <th>1188</th>\n",
       "      <td>57</td>\n",
       "      <td>0</td>\n",
       "      <td>2</td>\n",
       "      <td>130</td>\n",
       "      <td>236</td>\n",
       "      <td>0</td>\n",
       "      <td>2</td>\n",
       "      <td>174</td>\n",
       "      <td>0</td>\n",
       "      <td>0.0</td>\n",
       "      <td>2</td>\n",
       "      <td>1</td>\n",
       "    </tr>\n",
       "    <tr>\n",
       "      <th>1189</th>\n",
       "      <td>38</td>\n",
       "      <td>1</td>\n",
       "      <td>3</td>\n",
       "      <td>138</td>\n",
       "      <td>175</td>\n",
       "      <td>0</td>\n",
       "      <td>0</td>\n",
       "      <td>173</td>\n",
       "      <td>0</td>\n",
       "      <td>0.0</td>\n",
       "      <td>1</td>\n",
       "      <td>0</td>\n",
       "    </tr>\n",
       "  </tbody>\n",
       "</table>\n",
       "<p>1190 rows × 12 columns</p>\n",
       "</div>"
      ],
      "text/plain": [
       "      age  sex  chest pain type  resting bp s  cholesterol  \\\n",
       "0      40    1                2           140          289   \n",
       "1      49    0                3           160          180   \n",
       "2      37    1                2           130          283   \n",
       "3      48    0                4           138          214   \n",
       "4      54    1                3           150          195   \n",
       "...   ...  ...              ...           ...          ...   \n",
       "1185   45    1                1           110          264   \n",
       "1186   68    1                4           144          193   \n",
       "1187   57    1                4           130          131   \n",
       "1188   57    0                2           130          236   \n",
       "1189   38    1                3           138          175   \n",
       "\n",
       "      fasting blood sugar  resting ecg  max heart rate  exercise angina  \\\n",
       "0                       0            0             172                0   \n",
       "1                       0            0             156                0   \n",
       "2                       0            1              98                0   \n",
       "3                       0            0             108                1   \n",
       "4                       0            0             122                0   \n",
       "...                   ...          ...             ...              ...   \n",
       "1185                    0            0             132                0   \n",
       "1186                    1            0             141                0   \n",
       "1187                    0            0             115                1   \n",
       "1188                    0            2             174                0   \n",
       "1189                    0            0             173                0   \n",
       "\n",
       "      oldpeak  ST slope  target  \n",
       "0         0.0         1       0  \n",
       "1         1.0         2       1  \n",
       "2         0.0         1       0  \n",
       "3         1.5         2       1  \n",
       "4         0.0         1       0  \n",
       "...       ...       ...     ...  \n",
       "1185      1.2         2       1  \n",
       "1186      3.4         2       1  \n",
       "1187      1.2         2       1  \n",
       "1188      0.0         2       1  \n",
       "1189      0.0         1       0  \n",
       "\n",
       "[1190 rows x 12 columns]"
      ]
     },
     "execution_count": 315,
     "metadata": {},
     "output_type": "execute_result"
    },
    {
     "name": "stdout",
     "output_type": "stream",
     "text": [
      "time: 21.2 ms (started: 2024-08-30 15:52:34 -05:00)\n"
     ]
    }
   ],
   "source": [
    "df"
   ]
  },
  {
   "cell_type": "code",
   "execution_count": 316,
   "id": "38a6ac0b-6a9a-43fd-adb1-c6da0c59d8ea",
   "metadata": {},
   "outputs": [
    {
     "name": "stdout",
     "output_type": "stream",
     "text": [
      "The autotime extension is already loaded. To reload it, use:\n",
      "  %reload_ext autotime\n",
      "time: 1.18 ms (started: 2024-08-30 15:52:34 -05:00)\n"
     ]
    }
   ],
   "source": [
    "%load_ext autotime"
   ]
  },
  {
   "cell_type": "code",
   "execution_count": 317,
   "id": "b42928fc-47db-41fa-a658-e0ad467cf81b",
   "metadata": {},
   "outputs": [
    {
     "name": "stdout",
     "output_type": "stream",
     "text": [
      "time: 48.7 ms (started: 2024-08-30 15:52:34 -05:00)\n"
     ]
    }
   ],
   "source": [
    "# df.groupby('age').size().reset_index(name='count').reset_index()\n",
    "df.to_clipboard()"
   ]
  },
  {
   "cell_type": "code",
   "execution_count": 318,
   "id": "e41ed95d-00b5-4623-98b3-455f8b534376",
   "metadata": {},
   "outputs": [
    {
     "name": "stdout",
     "output_type": "stream",
     "text": [
      "<class 'pandas.core.frame.DataFrame'>\n",
      "RangeIndex: 1190 entries, 0 to 1189\n",
      "Data columns (total 12 columns):\n",
      " #   Column               Non-Null Count  Dtype  \n",
      "---  ------               --------------  -----  \n",
      " 0   age                  1190 non-null   int64  \n",
      " 1   sex                  1190 non-null   int64  \n",
      " 2   chest pain type      1190 non-null   int64  \n",
      " 3   resting bp s         1190 non-null   int64  \n",
      " 4   cholesterol          1190 non-null   int64  \n",
      " 5   fasting blood sugar  1190 non-null   int64  \n",
      " 6   resting ecg          1190 non-null   int64  \n",
      " 7   max heart rate       1190 non-null   int64  \n",
      " 8   exercise angina      1190 non-null   int64  \n",
      " 9   oldpeak              1190 non-null   float64\n",
      " 10  ST slope             1190 non-null   int64  \n",
      " 11  target               1190 non-null   int64  \n",
      "dtypes: float64(1), int64(11)\n",
      "memory usage: 111.7 KB\n",
      "time: 14.3 ms (started: 2024-08-30 15:52:35 -05:00)\n"
     ]
    }
   ],
   "source": [
    "df.info()"
   ]
  },
  {
   "cell_type": "code",
   "execution_count": 319,
   "id": "59262e14-20db-411b-bd20-b912d7640043",
   "metadata": {},
   "outputs": [
    {
     "name": "stdout",
     "output_type": "stream",
     "text": [
      "sex\n",
      "1    909\n",
      "0    281\n",
      "Name: count, dtype: int64\n",
      "---------------------------\n",
      "chest pain type\n",
      "4    625\n",
      "3    283\n",
      "2    216\n",
      "1     66\n",
      "Name: count, dtype: int64\n",
      "---------------------------\n",
      "fasting blood sugar\n",
      "0    936\n",
      "1    254\n",
      "Name: count, dtype: int64\n",
      "---------------------------\n",
      "resting ecg\n",
      "0    684\n",
      "2    325\n",
      "1    181\n",
      "Name: count, dtype: int64\n",
      "---------------------------\n",
      "exercise angina\n",
      "0    729\n",
      "1    461\n",
      "Name: count, dtype: int64\n",
      "---------------------------\n",
      "ST slope\n",
      "2    582\n",
      "1    526\n",
      "3     81\n",
      "0      1\n",
      "Name: count, dtype: int64\n",
      "---------------------------\n",
      "target\n",
      "1    629\n",
      "0    561\n",
      "Name: count, dtype: int64\n",
      "---------------------------\n",
      "time: 8.58 ms (started: 2024-08-30 15:52:35 -05:00)\n"
     ]
    }
   ],
   "source": [
    "for col in df[[\"sex\", \"chest pain type\", \"fasting blood sugar\", \"resting ecg\", \"exercise angina\", \"ST slope\", \"target\"]]:\n",
    "    print(df[col].value_counts()) \n",
    "    print(\"---------------------------\")"
   ]
  },
  {
   "cell_type": "code",
   "execution_count": 320,
   "id": "41585b86-a518-4eb9-a8d6-626aa4c4342f",
   "metadata": {},
   "outputs": [
    {
     "data": {
      "image/png": "[encoded data removed]",
      "text/plain": [
       "<Figure size 600x400 with 1 Axes>"
      ]
     },
     "metadata": {},
     "output_type": "display_data"
    },
    {
     "data": {
      "image/png": "[encoded data removed]",
      "text/plain": [
       "<Figure size 600x400 with 1 Axes>"
      ]
     },
     "metadata": {},
     "output_type": "display_data"
    },
    {
     "data": {
      "image/png": "[encoded data removed]",
      "text/plain": [
       "<Figure size 600x400 with 1 Axes>"
      ]
     },
     "metadata": {},
     "output_type": "display_data"
    },
    {
     "data": {
      "image/png": "[encoded data removed]",
      "text/plain": [
       "<Figure size 600x400 with 1 Axes>"
      ]
     },
     "metadata": {},
     "output_type": "display_data"
    },
    {
     "data": {
      "image/png": "[encoded data removed]",
      "text/plain": [
       "<Figure size 600x400 with 1 Axes>"
      ]
     },
     "metadata": {},
     "output_type": "display_data"
    },
    {
     "name": "stdout",
     "output_type": "stream",
     "text": [
      "time: 629 ms (started: 2024-08-30 15:52:35 -05:00)\n"
     ]
    }
   ],
   "source": [
    "Dictionary={\"age\":\"Age\" , \"resting bp s\":\"Blood Pressure at rest\" , \"cholesterol\":\"Cholestrol\", \"max heart rate\":\"Maximum heart rate\" , \"oldpeak\":\"oldpeak\"}\n",
    "\n",
    "for col in df[[\"age\",\"resting bp s\",\"cholesterol\", \"max heart rate\",\"oldpeak\"]]:\n",
    "    plt.figure(figsize=(6 , 4))\n",
    "    sns.histplot(x=col, data=df , bins=40  , hue=\"target\")\n",
    "    plt.title(f\" {Dictionary[col]} distribution of Heart attack vs not Heart Attack people \")\n",
    "    plt.show()"
   ]
  },
  {
   "cell_type": "code",
   "execution_count": 321,
   "id": "b7e7549e-7524-4663-bd48-5b7016a1384e",
   "metadata": {},
   "outputs": [
    {
     "name": "stdout",
     "output_type": "stream",
     "text": [
      "time: 195 µs (started: 2024-08-30 15:52:36 -05:00)\n"
     ]
    }
   ],
   "source": [
    "# cols = ['sex', 'chest pain type','fasting blood sugar', 'resting ecg', 'max heart rate',\n",
    "#        'exercise angina', 'ST slope']\n",
    "# plt.figure(figsize=(10 , 8))\n",
    "# df_long = pd.melt(df, id_vars=[\"target\"], value_vars=cols)\n",
    "\n",
    "# diagram = sns.catplot( x=\"variable\", hue=\"value\", col=\"target\",data=df_long, kind=\"count\",aspect=1.5)\n",
    "\n",
    "# diagram.set_axis_labels(\"Variable\", \"Count\")\n",
    "# diagram.set_titles(\"Output {col_name}\")\n",
    "# plt.show()"
   ]
  },
  {
   "cell_type": "code",
   "execution_count": 322,
   "id": "1bb30d98-c52e-4d27-b905-4ec68b29a411",
   "metadata": {
    "scrolled": true
   },
   "outputs": [
    {
     "data": {
      "image/png": "[encoded data removed]",
      "text/plain": [
       "<Figure size 800x600 with 1 Axes>"
      ]
     },
     "metadata": {},
     "output_type": "display_data"
    },
    {
     "name": "stdout",
     "output_type": "stream",
     "text": [
      "time: 47.9 ms (started: 2024-08-30 15:52:36 -05:00)\n"
     ]
    }
   ],
   "source": [
    "plt.figure(figsize=(8 , 6))\n",
    "labels=[\"Low Risk\" , \"High Risk\"]\n",
    "sizes=[df.target.value_counts()[0] ,df.target.value_counts()[1]]\n",
    "plt.pie(sizes, labels=labels , autopct='%1.1f%%')\n",
    "plt.title(\" Percentage of people with low risk vs high risk\")\n",
    "plt.axis('off')\n",
    "plt.show()\n",
    "# label data are almost balance "
   ]
  },
  {
   "cell_type": "code",
   "execution_count": 323,
   "id": "98b4fb80-ab41-45cf-b514-8b5040e85094",
   "metadata": {},
   "outputs": [
    {
     "data": {
      "image/png": "[encoded data removed]",
      "text/plain": [
       "<Figure size 800x550 with 1 Axes>"
      ]
     },
     "metadata": {},
     "output_type": "display_data"
    },
    {
     "data": {
      "image/png": "[encoded data removed]",
      "text/plain": [
       "<Figure size 800x550 with 1 Axes>"
      ]
     },
     "metadata": {},
     "output_type": "display_data"
    },
    {
     "data": {
      "image/png": "[encoded data removed]",
      "text/plain": [
       "<Figure size 800x550 with 1 Axes>"
      ]
     },
     "metadata": {},
     "output_type": "display_data"
    },
    {
     "data": {
      "image/png": "[encoded data removed]",
      "text/plain": [
       "<Figure size 800x550 with 1 Axes>"
      ]
     },
     "metadata": {},
     "output_type": "display_data"
    },
    {
     "name": "stdout",
     "output_type": "stream",
     "text": [
      "time: 329 ms (started: 2024-08-30 15:52:36 -05:00)\n"
     ]
    }
   ],
   "source": [
    "Dictionary={\"age\":\"Age\" , \"resting bp s\":\"Blood Pressure at rest\" , \"cholesterol\":\"Cholestrol\", \"max heart rate\":\"Maximum heart rate\"}\n",
    "for col in df[[\"age\" , \"resting bp s\" ,  \"cholesterol\" , \"max heart rate\"]]:\n",
    "    sns.boxplot(y=col , data=df)\n",
    "    plt.xlabel={col}\n",
    "    plt.title(f\"The boxplot of {Dictionary[col]}\")\n",
    "    plt.show()"
   ]
  },
  {
   "cell_type": "code",
   "execution_count": 324,
   "id": "2626bdcf-1fbf-4553-9a44-c39f79880e84",
   "metadata": {},
   "outputs": [
    {
     "name": "stdout",
     "output_type": "stream",
     "text": [
      "time: 540 µs (started: 2024-08-30 15:52:36 -05:00)\n"
     ]
    }
   ],
   "source": [
    "def find_and_remove_outlier(col):\n",
    "    print(col)\n",
    "    Q1 = df[col].quantile(0.25)\n",
    "    Q3 = df[col].quantile(0.75)\n",
    "    IQR = Q3 - Q1\n",
    "    lower = Q1 - 1.5*IQR\n",
    "    upper = Q3 + 1.5*IQR\n",
    "\n",
    "    upper_array = np.where(df[col]>=upper)[0]\n",
    "    lower_array = np.where(df[col]<=lower)[0]\n",
    "\n",
    "    df.drop(index=upper_array, inplace=True)\n",
    "    df.drop(index=lower_array, inplace=True)\n",
    "\n",
    "    df.reset_index(drop=True, inplace=True)\n"
   ]
  },
  {
   "cell_type": "code",
   "execution_count": 325,
   "id": "2bcaa27f-d77a-4930-b1d4-61d87c338404",
   "metadata": {},
   "outputs": [
    {
     "name": "stdout",
     "output_type": "stream",
     "text": [
      "age\n",
      "resting bp s\n",
      "cholesterol\n",
      "max heart rate\n",
      "oldpeak\n",
      "time: 6.54 ms (started: 2024-08-30 15:52:36 -05:00)\n"
     ]
    }
   ],
   "source": [
    "for col in [\"age\" ,\"resting bp s\" ,  \"cholesterol\" , \"max heart rate\" , \"oldpeak\"]:\n",
    "    find_and_remove_outlier(col)"
   ]
  },
  {
   "cell_type": "code",
   "execution_count": 326,
   "id": "829c2c33-4a10-4dfe-aa9e-970920ab8d59",
   "metadata": {},
   "outputs": [
    {
     "data": {
      "text/html": [
       "<div>\n",
       "<style scoped>\n",
       "    .dataframe tbody tr th:only-of-type {\n",
       "        vertical-align: middle;\n",
       "    }\n",
       "\n",
       "    .dataframe tbody tr th {\n",
       "        vertical-align: top;\n",
       "    }\n",
       "\n",
       "    .dataframe thead th {\n",
       "        text-align: right;\n",
       "    }\n",
       "</style>\n",
       "<table border=\"1\" class=\"dataframe\">\n",
       "  <thead>\n",
       "    <tr style=\"text-align: right;\">\n",
       "      <th></th>\n",
       "      <th>age</th>\n",
       "      <th>sex</th>\n",
       "      <th>chest pain type</th>\n",
       "      <th>resting bp s</th>\n",
       "      <th>cholesterol</th>\n",
       "      <th>fasting blood sugar</th>\n",
       "      <th>resting ecg</th>\n",
       "      <th>max heart rate</th>\n",
       "      <th>exercise angina</th>\n",
       "      <th>oldpeak</th>\n",
       "      <th>ST slope</th>\n",
       "      <th>target</th>\n",
       "    </tr>\n",
       "  </thead>\n",
       "  <tbody>\n",
       "    <tr>\n",
       "      <th>0</th>\n",
       "      <td>40</td>\n",
       "      <td>1</td>\n",
       "      <td>2</td>\n",
       "      <td>140</td>\n",
       "      <td>289</td>\n",
       "      <td>0</td>\n",
       "      <td>0</td>\n",
       "      <td>172</td>\n",
       "      <td>0</td>\n",
       "      <td>0.0</td>\n",
       "      <td>1</td>\n",
       "      <td>0</td>\n",
       "    </tr>\n",
       "    <tr>\n",
       "      <th>1</th>\n",
       "      <td>49</td>\n",
       "      <td>0</td>\n",
       "      <td>3</td>\n",
       "      <td>160</td>\n",
       "      <td>180</td>\n",
       "      <td>0</td>\n",
       "      <td>0</td>\n",
       "      <td>156</td>\n",
       "      <td>0</td>\n",
       "      <td>1.0</td>\n",
       "      <td>2</td>\n",
       "      <td>1</td>\n",
       "    </tr>\n",
       "    <tr>\n",
       "      <th>2</th>\n",
       "      <td>37</td>\n",
       "      <td>1</td>\n",
       "      <td>2</td>\n",
       "      <td>130</td>\n",
       "      <td>283</td>\n",
       "      <td>0</td>\n",
       "      <td>1</td>\n",
       "      <td>98</td>\n",
       "      <td>0</td>\n",
       "      <td>0.0</td>\n",
       "      <td>1</td>\n",
       "      <td>0</td>\n",
       "    </tr>\n",
       "    <tr>\n",
       "      <th>3</th>\n",
       "      <td>48</td>\n",
       "      <td>0</td>\n",
       "      <td>4</td>\n",
       "      <td>138</td>\n",
       "      <td>214</td>\n",
       "      <td>0</td>\n",
       "      <td>0</td>\n",
       "      <td>108</td>\n",
       "      <td>1</td>\n",
       "      <td>1.5</td>\n",
       "      <td>2</td>\n",
       "      <td>1</td>\n",
       "    </tr>\n",
       "    <tr>\n",
       "      <th>4</th>\n",
       "      <td>54</td>\n",
       "      <td>1</td>\n",
       "      <td>3</td>\n",
       "      <td>150</td>\n",
       "      <td>195</td>\n",
       "      <td>0</td>\n",
       "      <td>0</td>\n",
       "      <td>122</td>\n",
       "      <td>0</td>\n",
       "      <td>0.0</td>\n",
       "      <td>1</td>\n",
       "      <td>0</td>\n",
       "    </tr>\n",
       "    <tr>\n",
       "      <th>...</th>\n",
       "      <td>...</td>\n",
       "      <td>...</td>\n",
       "      <td>...</td>\n",
       "      <td>...</td>\n",
       "      <td>...</td>\n",
       "      <td>...</td>\n",
       "      <td>...</td>\n",
       "      <td>...</td>\n",
       "      <td>...</td>\n",
       "      <td>...</td>\n",
       "      <td>...</td>\n",
       "      <td>...</td>\n",
       "    </tr>\n",
       "    <tr>\n",
       "      <th>933</th>\n",
       "      <td>45</td>\n",
       "      <td>1</td>\n",
       "      <td>1</td>\n",
       "      <td>110</td>\n",
       "      <td>264</td>\n",
       "      <td>0</td>\n",
       "      <td>0</td>\n",
       "      <td>132</td>\n",
       "      <td>0</td>\n",
       "      <td>1.2</td>\n",
       "      <td>2</td>\n",
       "      <td>1</td>\n",
       "    </tr>\n",
       "    <tr>\n",
       "      <th>934</th>\n",
       "      <td>68</td>\n",
       "      <td>1</td>\n",
       "      <td>4</td>\n",
       "      <td>144</td>\n",
       "      <td>193</td>\n",
       "      <td>1</td>\n",
       "      <td>0</td>\n",
       "      <td>141</td>\n",
       "      <td>0</td>\n",
       "      <td>3.4</td>\n",
       "      <td>2</td>\n",
       "      <td>1</td>\n",
       "    </tr>\n",
       "    <tr>\n",
       "      <th>935</th>\n",
       "      <td>57</td>\n",
       "      <td>1</td>\n",
       "      <td>4</td>\n",
       "      <td>130</td>\n",
       "      <td>131</td>\n",
       "      <td>0</td>\n",
       "      <td>0</td>\n",
       "      <td>115</td>\n",
       "      <td>1</td>\n",
       "      <td>1.2</td>\n",
       "      <td>2</td>\n",
       "      <td>1</td>\n",
       "    </tr>\n",
       "    <tr>\n",
       "      <th>936</th>\n",
       "      <td>57</td>\n",
       "      <td>0</td>\n",
       "      <td>2</td>\n",
       "      <td>130</td>\n",
       "      <td>236</td>\n",
       "      <td>0</td>\n",
       "      <td>2</td>\n",
       "      <td>174</td>\n",
       "      <td>0</td>\n",
       "      <td>0.0</td>\n",
       "      <td>2</td>\n",
       "      <td>1</td>\n",
       "    </tr>\n",
       "    <tr>\n",
       "      <th>937</th>\n",
       "      <td>38</td>\n",
       "      <td>1</td>\n",
       "      <td>3</td>\n",
       "      <td>138</td>\n",
       "      <td>175</td>\n",
       "      <td>0</td>\n",
       "      <td>0</td>\n",
       "      <td>173</td>\n",
       "      <td>0</td>\n",
       "      <td>0.0</td>\n",
       "      <td>1</td>\n",
       "      <td>0</td>\n",
       "    </tr>\n",
       "  </tbody>\n",
       "</table>\n",
       "<p>938 rows × 12 columns</p>\n",
       "</div>"
      ],
      "text/plain": [
       "     age  sex  chest pain type  resting bp s  cholesterol  \\\n",
       "0     40    1                2           140          289   \n",
       "1     49    0                3           160          180   \n",
       "2     37    1                2           130          283   \n",
       "3     48    0                4           138          214   \n",
       "4     54    1                3           150          195   \n",
       "..   ...  ...              ...           ...          ...   \n",
       "933   45    1                1           110          264   \n",
       "934   68    1                4           144          193   \n",
       "935   57    1                4           130          131   \n",
       "936   57    0                2           130          236   \n",
       "937   38    1                3           138          175   \n",
       "\n",
       "     fasting blood sugar  resting ecg  max heart rate  exercise angina  \\\n",
       "0                      0            0             172                0   \n",
       "1                      0            0             156                0   \n",
       "2                      0            1              98                0   \n",
       "3                      0            0             108                1   \n",
       "4                      0            0             122                0   \n",
       "..                   ...          ...             ...              ...   \n",
       "933                    0            0             132                0   \n",
       "934                    1            0             141                0   \n",
       "935                    0            0             115                1   \n",
       "936                    0            2             174                0   \n",
       "937                    0            0             173                0   \n",
       "\n",
       "     oldpeak  ST slope  target  \n",
       "0        0.0         1       0  \n",
       "1        1.0         2       1  \n",
       "2        0.0         1       0  \n",
       "3        1.5         2       1  \n",
       "4        0.0         1       0  \n",
       "..       ...       ...     ...  \n",
       "933      1.2         2       1  \n",
       "934      3.4         2       1  \n",
       "935      1.2         2       1  \n",
       "936      0.0         2       1  \n",
       "937      0.0         1       0  \n",
       "\n",
       "[938 rows x 12 columns]"
      ]
     },
     "execution_count": 326,
     "metadata": {},
     "output_type": "execute_result"
    },
    {
     "name": "stdout",
     "output_type": "stream",
     "text": [
      "time: 4.07 ms (started: 2024-08-30 15:52:36 -05:00)\n"
     ]
    }
   ],
   "source": [
    "df"
   ]
  },
  {
   "cell_type": "code",
   "execution_count": 327,
   "id": "11678442-c887-4caf-b413-681835f186a7",
   "metadata": {},
   "outputs": [
    {
     "data": {
      "text/html": [
       "<div>\n",
       "<style scoped>\n",
       "    .dataframe tbody tr th:only-of-type {\n",
       "        vertical-align: middle;\n",
       "    }\n",
       "\n",
       "    .dataframe tbody tr th {\n",
       "        vertical-align: top;\n",
       "    }\n",
       "\n",
       "    .dataframe thead th {\n",
       "        text-align: right;\n",
       "    }\n",
       "</style>\n",
       "<table border=\"1\" class=\"dataframe\">\n",
       "  <thead>\n",
       "    <tr style=\"text-align: right;\">\n",
       "      <th></th>\n",
       "      <th>target</th>\n",
       "      <th>variable</th>\n",
       "      <th>value</th>\n",
       "    </tr>\n",
       "  </thead>\n",
       "  <tbody>\n",
       "    <tr>\n",
       "      <th>0</th>\n",
       "      <td>0</td>\n",
       "      <td>oldpeak</td>\n",
       "      <td>0.0</td>\n",
       "    </tr>\n",
       "    <tr>\n",
       "      <th>1</th>\n",
       "      <td>1</td>\n",
       "      <td>oldpeak</td>\n",
       "      <td>1.0</td>\n",
       "    </tr>\n",
       "    <tr>\n",
       "      <th>2</th>\n",
       "      <td>0</td>\n",
       "      <td>oldpeak</td>\n",
       "      <td>0.0</td>\n",
       "    </tr>\n",
       "    <tr>\n",
       "      <th>3</th>\n",
       "      <td>1</td>\n",
       "      <td>oldpeak</td>\n",
       "      <td>1.5</td>\n",
       "    </tr>\n",
       "    <tr>\n",
       "      <th>4</th>\n",
       "      <td>0</td>\n",
       "      <td>oldpeak</td>\n",
       "      <td>0.0</td>\n",
       "    </tr>\n",
       "    <tr>\n",
       "      <th>...</th>\n",
       "      <td>...</td>\n",
       "      <td>...</td>\n",
       "      <td>...</td>\n",
       "    </tr>\n",
       "    <tr>\n",
       "      <th>933</th>\n",
       "      <td>1</td>\n",
       "      <td>oldpeak</td>\n",
       "      <td>1.2</td>\n",
       "    </tr>\n",
       "    <tr>\n",
       "      <th>934</th>\n",
       "      <td>1</td>\n",
       "      <td>oldpeak</td>\n",
       "      <td>3.4</td>\n",
       "    </tr>\n",
       "    <tr>\n",
       "      <th>935</th>\n",
       "      <td>1</td>\n",
       "      <td>oldpeak</td>\n",
       "      <td>1.2</td>\n",
       "    </tr>\n",
       "    <tr>\n",
       "      <th>936</th>\n",
       "      <td>1</td>\n",
       "      <td>oldpeak</td>\n",
       "      <td>0.0</td>\n",
       "    </tr>\n",
       "    <tr>\n",
       "      <th>937</th>\n",
       "      <td>0</td>\n",
       "      <td>oldpeak</td>\n",
       "      <td>0.0</td>\n",
       "    </tr>\n",
       "  </tbody>\n",
       "</table>\n",
       "<p>938 rows × 3 columns</p>\n",
       "</div>"
      ],
      "text/plain": [
       "     target variable  value\n",
       "0         0  oldpeak    0.0\n",
       "1         1  oldpeak    1.0\n",
       "2         0  oldpeak    0.0\n",
       "3         1  oldpeak    1.5\n",
       "4         0  oldpeak    0.0\n",
       "..      ...      ...    ...\n",
       "933       1  oldpeak    1.2\n",
       "934       1  oldpeak    3.4\n",
       "935       1  oldpeak    1.2\n",
       "936       1  oldpeak    0.0\n",
       "937       0  oldpeak    0.0\n",
       "\n",
       "[938 rows x 3 columns]"
      ]
     },
     "execution_count": 327,
     "metadata": {},
     "output_type": "execute_result"
    },
    {
     "name": "stdout",
     "output_type": "stream",
     "text": [
      "time: 4.17 ms (started: 2024-08-30 15:52:36 -05:00)\n"
     ]
    }
   ],
   "source": [
    "df_long = pd.melt(df, id_vars=[\"target\"], value_vars=col)\n",
    "df_long"
   ]
  },
  {
   "cell_type": "code",
   "execution_count": 328,
   "id": "23c32c0d-6075-4c0e-a8f2-542e4dad3e3e",
   "metadata": {},
   "outputs": [
    {
     "data": {
      "text/plain": [
       "age                    0\n",
       "sex                    0\n",
       "chest pain type        0\n",
       "resting bp s           0\n",
       "cholesterol            0\n",
       "fasting blood sugar    0\n",
       "resting ecg            0\n",
       "max heart rate         0\n",
       "exercise angina        0\n",
       "oldpeak                0\n",
       "ST slope               0\n",
       "target                 0\n",
       "dtype: int64"
      ]
     },
     "execution_count": 328,
     "metadata": {},
     "output_type": "execute_result"
    },
    {
     "name": "stdout",
     "output_type": "stream",
     "text": [
      "time: 3.08 ms (started: 2024-08-30 15:52:36 -05:00)\n"
     ]
    }
   ],
   "source": [
    "#EDA\n",
    "df.isnull().sum()"
   ]
  },
  {
   "cell_type": "code",
   "execution_count": 329,
   "id": "a7de04a2-3791-4bac-a07c-3760ec5ea6c7",
   "metadata": {},
   "outputs": [
    {
     "data": {
      "text/plain": [
       "Index(['age', 'sex', 'chest pain type', 'resting bp s', 'cholesterol',\n",
       "       'fasting blood sugar', 'resting ecg', 'max heart rate',\n",
       "       'exercise angina', 'oldpeak', 'ST slope', 'target'],\n",
       "      dtype='object')"
      ]
     },
     "execution_count": 329,
     "metadata": {},
     "output_type": "execute_result"
    },
    {
     "name": "stdout",
     "output_type": "stream",
     "text": [
      "time: 3.17 ms (started: 2024-08-30 15:52:36 -05:00)\n"
     ]
    }
   ],
   "source": [
    "df.columns"
   ]
  },
  {
   "cell_type": "code",
   "execution_count": 330,
   "id": "d20c732e-4e56-4fd1-a1c7-29495ea877d4",
   "metadata": {},
   "outputs": [
    {
     "name": "stdout",
     "output_type": "stream",
     "text": [
      "time: 9.3 ms (started: 2024-08-30 15:52:37 -05:00)\n"
     ]
    }
   ],
   "source": [
    "import matplotlib.pyplot as plt\n",
    "from importlib import reload\n",
    "plt=reload(plt)"
   ]
  },
  {
   "cell_type": "code",
   "execution_count": 331,
   "id": "df4469c8-b49f-49ca-9a93-f2e56ec8bd4f",
   "metadata": {},
   "outputs": [
    {
     "name": "stdout",
     "output_type": "stream",
     "text": [
      "time: 454 µs (started: 2024-08-30 15:52:37 -05:00)\n"
     ]
    }
   ],
   "source": [
    "# columns = df.columns.difference(['target']) # getting all columns except target\n",
    "# for col in columns:\n",
    "#     plt.scatter(df[col],df['target'])\n",
    "#     plt.title(f'Noise in ' + col + ' Column' )\n",
    "#     plt.xlabel(col)\n",
    "#     plt.ylabel('target')\n",
    "#     plt.grid()\n",
    "#     plt.show()"
   ]
  },
  {
   "cell_type": "code",
   "execution_count": 332,
   "id": "b5bdf956-4609-4a20-a0bb-0bba1d92c2d9",
   "metadata": {},
   "outputs": [
    {
     "name": "stdout",
     "output_type": "stream",
     "text": [
      "time: 323 µs (started: 2024-08-30 15:52:37 -05:00)\n"
     ]
    }
   ],
   "source": [
    "#df3=df[df['cholesterol']>0]\n",
    "#Crestrol below zero has noise, that's why we remove these noises"
   ]
  },
  {
   "cell_type": "code",
   "execution_count": 333,
   "id": "948523a6-6061-4101-afa5-72ea5714310c",
   "metadata": {},
   "outputs": [
    {
     "name": "stdout",
     "output_type": "stream",
     "text": [
      "time: 297 µs (started: 2024-08-30 15:52:37 -05:00)\n"
     ]
    }
   ],
   "source": [
    "#df3.describe()"
   ]
  },
  {
   "cell_type": "code",
   "execution_count": 334,
   "id": "7e684994-41b2-4c13-8e2d-78f0928c3a1d",
   "metadata": {},
   "outputs": [
    {
     "name": "stdout",
     "output_type": "stream",
     "text": [
      "time: 381 µs (started: 2024-08-30 15:52:37 -05:00)\n"
     ]
    }
   ],
   "source": [
    "#The minimum age is 28 years and the maximum age is 77 years\n",
    "\n",
    "#The lowest resting bp s is 92 and the highest is 200\n",
    "\n",
    "#The lowest cholestoral value is 85 and the highest is 603\n",
    "\n",
    "#The lowest value of the maximum heart rate is 69 and the highest is 202"
   ]
  },
  {
   "cell_type": "code",
   "execution_count": 335,
   "id": "96c140a6-336c-45a6-9695-e2ca73ce80b0",
   "metadata": {},
   "outputs": [
    {
     "name": "stdout",
     "output_type": "stream",
     "text": [
      "age 48\n",
      "sex 2\n",
      "chest pain type 4\n",
      "resting bp s 54\n",
      "cholesterol 201\n",
      "fasting blood sugar 2\n",
      "resting ecg 3\n",
      "max heart rate 105\n",
      "exercise angina 2\n",
      "oldpeak 36\n",
      "ST slope 4\n",
      "target 2\n",
      "time: 4.76 ms (started: 2024-08-30 15:52:38 -05:00)\n"
     ]
    }
   ],
   "source": [
    "for i in df.columns:\n",
    "    print (i,len(df[i].unique()))"
   ]
  },
  {
   "cell_type": "code",
   "execution_count": 336,
   "id": "4a3f5be5-5518-4b51-9982-62bd171599a2",
   "metadata": {},
   "outputs": [
    {
     "name": "stdout",
     "output_type": "stream",
     "text": [
      "                          age       sex  chest pain type  resting bp s  \\\n",
      "age                  1.000000  0.020338         0.141899      0.259307   \n",
      "sex                  0.020338  1.000000         0.144369      0.059323   \n",
      "chest pain type      0.141899  0.144369         1.000000      0.008212   \n",
      "resting bp s         0.259307  0.059323         0.008212      1.000000   \n",
      "cholesterol          0.104616 -0.093045         0.066771      0.096506   \n",
      "fasting blood sugar  0.198878  0.096753        -0.008688      0.159173   \n",
      "resting ecg          0.190797  0.016305         0.097492      0.041463   \n",
      "max heart rate      -0.390133 -0.140526        -0.324924     -0.109400   \n",
      "exercise angina      0.202306  0.216642         0.417503      0.115287   \n",
      "oldpeak              0.267649  0.153438         0.254824      0.162316   \n",
      "ST slope             0.225427  0.130159         0.277069      0.082471   \n",
      "target               0.279695  0.317916         0.456432      0.141675   \n",
      "\n",
      "                     cholesterol  fasting blood sugar  resting ecg  \\\n",
      "age                     0.104616             0.198878     0.190797   \n",
      "sex                    -0.093045             0.096753     0.016305   \n",
      "chest pain type         0.066771            -0.008688     0.097492   \n",
      "resting bp s            0.096506             0.159173     0.041463   \n",
      "cholesterol             1.000000             0.039002     0.095494   \n",
      "fasting blood sugar     0.039002             1.000000     0.105406   \n",
      "resting ecg             0.095494             0.105406     1.000000   \n",
      "max heart rate         -0.003499            -0.081219     0.003544   \n",
      "exercise angina         0.104180             0.073776     0.069156   \n",
      "oldpeak                 0.040466             0.043522     0.114093   \n",
      "ST slope                0.014303             0.119595     0.114111   \n",
      "target                  0.107464             0.115125     0.133305   \n",
      "\n",
      "                     max heart rate  exercise angina   oldpeak  ST slope  \\\n",
      "age                       -0.390133         0.202306  0.267649  0.225427   \n",
      "sex                       -0.140526         0.216642  0.153438  0.130159   \n",
      "chest pain type           -0.324924         0.417503  0.254824  0.277069   \n",
      "resting bp s              -0.109400         0.115287  0.162316  0.082471   \n",
      "cholesterol               -0.003499         0.104180  0.040466  0.014303   \n",
      "fasting blood sugar       -0.081219         0.073776  0.043522  0.119595   \n",
      "resting ecg                0.003544         0.069156  0.114093  0.114111   \n",
      "max heart rate             1.000000        -0.412753 -0.285016 -0.353847   \n",
      "exercise angina           -0.412753         1.000000  0.412646  0.413888   \n",
      "oldpeak                   -0.285016         0.412646  1.000000  0.580679   \n",
      "ST slope                  -0.353847         0.413888  0.580679  1.000000   \n",
      "target                    -0.403752         0.510715  0.470686  0.513075   \n",
      "\n",
      "                       target  \n",
      "age                  0.279695  \n",
      "sex                  0.317916  \n",
      "chest pain type      0.456432  \n",
      "resting bp s         0.141675  \n",
      "cholesterol          0.107464  \n",
      "fasting blood sugar  0.115125  \n",
      "resting ecg          0.133305  \n",
      "max heart rate      -0.403752  \n",
      "exercise angina      0.510715  \n",
      "oldpeak              0.470686  \n",
      "ST slope             0.513075  \n",
      "target               1.000000  \n",
      "time: 9.4 ms (started: 2024-08-30 15:52:38 -05:00)\n"
     ]
    }
   ],
   "source": [
    "import matplotlib.pyplot as plt\n",
    "matrix = df.corr()\n",
    "print(matrix)\n",
    "#Creating and printing a correlation matrix\n"
   ]
  },
  {
   "cell_type": "code",
   "execution_count": 337,
   "id": "756d5125-d3b9-4649-86f6-24715735c5c1",
   "metadata": {
    "scrolled": true
   },
   "outputs": [
    {
     "data": {
      "image/png": "[encoded data removed]",
      "text/plain": [
       "<Figure size 800x550 with 2 Axes>"
      ]
     },
     "metadata": {},
     "output_type": "display_data"
    },
    {
     "name": "stdout",
     "output_type": "stream",
     "text": [
      "time: 125 ms (started: 2024-08-30 15:52:38 -05:00)\n"
     ]
    }
   ],
   "source": [
    "#plotting correlation matrix \n",
    "plt.imshow(matrix, cmap='Blues')\n",
    "\n",
    "#adding colorbar \n",
    "plt.colorbar()\n",
    "\n",
    "# Adding labels to the matrix\n",
    "plt.xticks(range(len(matrix)), matrix.columns, rotation=45, ha='right')\n",
    "plt.yticks(range(len(matrix)), matrix.columns)\n",
    "# Display the plot\n",
    "plt.show()\n"
   ]
  },
  {
   "cell_type": "markdown",
   "id": "53124900-d7aa-4c72-bd17-34680d57a74b",
   "metadata": {},
   "source": [
    "# Feature selection \n"
   ]
  },
  {
   "cell_type": "markdown",
   "id": "dfa7f15f-7c5d-4b1e-857d-75addb0b1317",
   "metadata": {},
   "source": [
    "## Feature selection using SelectKBest with ANOVA F-value"
   ]
  },
  {
   "cell_type": "code",
   "execution_count": 338,
   "id": "9da7177a-3824-4140-9726-b3e69910aaf6",
   "metadata": {},
   "outputs": [
    {
     "data": {
      "image/png": "[encoded data removed]",
      "text/plain": [
       "<Figure size 1000x600 with 1 Axes>"
      ]
     },
     "metadata": {},
     "output_type": "display_data"
    },
    {
     "data": {
      "text/plain": [
       "<Figure size 800x550 with 0 Axes>"
      ]
     },
     "metadata": {},
     "output_type": "display_data"
    },
    {
     "name": "stdout",
     "output_type": "stream",
     "text": [
      "time: 171 ms (started: 2024-08-30 15:52:38 -05:00)\n"
     ]
    }
   ],
   "source": [
    "# Feature selection using SelectKBest with ANOVA F-value\n",
    "X = df.drop([\"target\"], axis = 1)  \n",
    "y = df[\"target\"] \n",
    "selector = SelectKBest(f_classif, k=13)\n",
    "X_selected = selector.fit_transform(X, y)\n",
    "\n",
    "selected_features = X.columns[selector.get_support()]\n",
    "feature_scores = selector.scores_[selector.get_support()]\n",
    "\n",
    "# Create a DataFrame to store the feature names and their scores\n",
    "feature_scores_data_set = pd.DataFrame({'Features': selected_features, 'Scores': feature_scores})\n",
    "\n",
    "# Sort the DataFrame by score in descending order\n",
    "feature_scores_data_set = feature_scores_data_set.sort_values(by='Scores', ascending=False)\n",
    "\n",
    "# Plot the feature scores\n",
    "plt.figure(figsize=(10, 6))\n",
    "ax = sns.barplot(x='Scores', y='Features', data=feature_scores_data_set, palette='viridis')\n",
    "plt.title('Feature Scores')\n",
    "plt.xlabel('Scores')\n",
    "plt.ylabel('Features')\n",
    "for i in ax.containers:\n",
    "    ax.bar_label(i,)\n",
    "plt.show()\n",
    "plt.savefig(\"output.png\")"
   ]
  },
  {
   "cell_type": "code",
   "execution_count": 339,
   "id": "516365e6-c2f2-4e71-8b76-f90e0f03fb33",
   "metadata": {},
   "outputs": [
    {
     "data": {
      "text/html": [
       "<div>\n",
       "<style scoped>\n",
       "    .dataframe tbody tr th:only-of-type {\n",
       "        vertical-align: middle;\n",
       "    }\n",
       "\n",
       "    .dataframe tbody tr th {\n",
       "        vertical-align: top;\n",
       "    }\n",
       "\n",
       "    .dataframe thead th {\n",
       "        text-align: right;\n",
       "    }\n",
       "</style>\n",
       "<table border=\"1\" class=\"dataframe\">\n",
       "  <thead>\n",
       "    <tr style=\"text-align: right;\">\n",
       "      <th></th>\n",
       "      <th>age</th>\n",
       "      <th>sex</th>\n",
       "      <th>chest pain type</th>\n",
       "      <th>resting bp s</th>\n",
       "      <th>cholesterol</th>\n",
       "      <th>fasting blood sugar</th>\n",
       "      <th>resting ecg</th>\n",
       "      <th>max heart rate</th>\n",
       "      <th>exercise angina</th>\n",
       "      <th>oldpeak</th>\n",
       "      <th>ST slope</th>\n",
       "    </tr>\n",
       "  </thead>\n",
       "  <tbody>\n",
       "    <tr>\n",
       "      <th>0</th>\n",
       "      <td>40</td>\n",
       "      <td>1</td>\n",
       "      <td>2</td>\n",
       "      <td>140</td>\n",
       "      <td>289</td>\n",
       "      <td>0</td>\n",
       "      <td>0</td>\n",
       "      <td>172</td>\n",
       "      <td>0</td>\n",
       "      <td>0.0</td>\n",
       "      <td>1</td>\n",
       "    </tr>\n",
       "    <tr>\n",
       "      <th>1</th>\n",
       "      <td>49</td>\n",
       "      <td>0</td>\n",
       "      <td>3</td>\n",
       "      <td>160</td>\n",
       "      <td>180</td>\n",
       "      <td>0</td>\n",
       "      <td>0</td>\n",
       "      <td>156</td>\n",
       "      <td>0</td>\n",
       "      <td>1.0</td>\n",
       "      <td>2</td>\n",
       "    </tr>\n",
       "    <tr>\n",
       "      <th>2</th>\n",
       "      <td>37</td>\n",
       "      <td>1</td>\n",
       "      <td>2</td>\n",
       "      <td>130</td>\n",
       "      <td>283</td>\n",
       "      <td>0</td>\n",
       "      <td>1</td>\n",
       "      <td>98</td>\n",
       "      <td>0</td>\n",
       "      <td>0.0</td>\n",
       "      <td>1</td>\n",
       "    </tr>\n",
       "    <tr>\n",
       "      <th>3</th>\n",
       "      <td>48</td>\n",
       "      <td>0</td>\n",
       "      <td>4</td>\n",
       "      <td>138</td>\n",
       "      <td>214</td>\n",
       "      <td>0</td>\n",
       "      <td>0</td>\n",
       "      <td>108</td>\n",
       "      <td>1</td>\n",
       "      <td>1.5</td>\n",
       "      <td>2</td>\n",
       "    </tr>\n",
       "    <tr>\n",
       "      <th>4</th>\n",
       "      <td>54</td>\n",
       "      <td>1</td>\n",
       "      <td>3</td>\n",
       "      <td>150</td>\n",
       "      <td>195</td>\n",
       "      <td>0</td>\n",
       "      <td>0</td>\n",
       "      <td>122</td>\n",
       "      <td>0</td>\n",
       "      <td>0.0</td>\n",
       "      <td>1</td>\n",
       "    </tr>\n",
       "    <tr>\n",
       "      <th>...</th>\n",
       "      <td>...</td>\n",
       "      <td>...</td>\n",
       "      <td>...</td>\n",
       "      <td>...</td>\n",
       "      <td>...</td>\n",
       "      <td>...</td>\n",
       "      <td>...</td>\n",
       "      <td>...</td>\n",
       "      <td>...</td>\n",
       "      <td>...</td>\n",
       "      <td>...</td>\n",
       "    </tr>\n",
       "    <tr>\n",
       "      <th>933</th>\n",
       "      <td>45</td>\n",
       "      <td>1</td>\n",
       "      <td>1</td>\n",
       "      <td>110</td>\n",
       "      <td>264</td>\n",
       "      <td>0</td>\n",
       "      <td>0</td>\n",
       "      <td>132</td>\n",
       "      <td>0</td>\n",
       "      <td>1.2</td>\n",
       "      <td>2</td>\n",
       "    </tr>\n",
       "    <tr>\n",
       "      <th>934</th>\n",
       "      <td>68</td>\n",
       "      <td>1</td>\n",
       "      <td>4</td>\n",
       "      <td>144</td>\n",
       "      <td>193</td>\n",
       "      <td>1</td>\n",
       "      <td>0</td>\n",
       "      <td>141</td>\n",
       "      <td>0</td>\n",
       "      <td>3.4</td>\n",
       "      <td>2</td>\n",
       "    </tr>\n",
       "    <tr>\n",
       "      <th>935</th>\n",
       "      <td>57</td>\n",
       "      <td>1</td>\n",
       "      <td>4</td>\n",
       "      <td>130</td>\n",
       "      <td>131</td>\n",
       "      <td>0</td>\n",
       "      <td>0</td>\n",
       "      <td>115</td>\n",
       "      <td>1</td>\n",
       "      <td>1.2</td>\n",
       "      <td>2</td>\n",
       "    </tr>\n",
       "    <tr>\n",
       "      <th>936</th>\n",
       "      <td>57</td>\n",
       "      <td>0</td>\n",
       "      <td>2</td>\n",
       "      <td>130</td>\n",
       "      <td>236</td>\n",
       "      <td>0</td>\n",
       "      <td>2</td>\n",
       "      <td>174</td>\n",
       "      <td>0</td>\n",
       "      <td>0.0</td>\n",
       "      <td>2</td>\n",
       "    </tr>\n",
       "    <tr>\n",
       "      <th>937</th>\n",
       "      <td>38</td>\n",
       "      <td>1</td>\n",
       "      <td>3</td>\n",
       "      <td>138</td>\n",
       "      <td>175</td>\n",
       "      <td>0</td>\n",
       "      <td>0</td>\n",
       "      <td>173</td>\n",
       "      <td>0</td>\n",
       "      <td>0.0</td>\n",
       "      <td>1</td>\n",
       "    </tr>\n",
       "  </tbody>\n",
       "</table>\n",
       "<p>938 rows × 11 columns</p>\n",
       "</div>"
      ],
      "text/plain": [
       "     age  sex  chest pain type  resting bp s  cholesterol  \\\n",
       "0     40    1                2           140          289   \n",
       "1     49    0                3           160          180   \n",
       "2     37    1                2           130          283   \n",
       "3     48    0                4           138          214   \n",
       "4     54    1                3           150          195   \n",
       "..   ...  ...              ...           ...          ...   \n",
       "933   45    1                1           110          264   \n",
       "934   68    1                4           144          193   \n",
       "935   57    1                4           130          131   \n",
       "936   57    0                2           130          236   \n",
       "937   38    1                3           138          175   \n",
       "\n",
       "     fasting blood sugar  resting ecg  max heart rate  exercise angina  \\\n",
       "0                      0            0             172                0   \n",
       "1                      0            0             156                0   \n",
       "2                      0            1              98                0   \n",
       "3                      0            0             108                1   \n",
       "4                      0            0             122                0   \n",
       "..                   ...          ...             ...              ...   \n",
       "933                    0            0             132                0   \n",
       "934                    1            0             141                0   \n",
       "935                    0            0             115                1   \n",
       "936                    0            2             174                0   \n",
       "937                    0            0             173                0   \n",
       "\n",
       "     oldpeak  ST slope  \n",
       "0        0.0         1  \n",
       "1        1.0         2  \n",
       "2        0.0         1  \n",
       "3        1.5         2  \n",
       "4        0.0         1  \n",
       "..       ...       ...  \n",
       "933      1.2         2  \n",
       "934      3.4         2  \n",
       "935      1.2         2  \n",
       "936      0.0         2  \n",
       "937      0.0         1  \n",
       "\n",
       "[938 rows x 11 columns]"
      ]
     },
     "execution_count": 339,
     "metadata": {},
     "output_type": "execute_result"
    },
    {
     "name": "stdout",
     "output_type": "stream",
     "text": [
      "time: 5.38 ms (started: 2024-08-30 15:52:39 -05:00)\n"
     ]
    }
   ],
   "source": [
    "X\n",
    "    "
   ]
  },
  {
   "cell_type": "code",
   "execution_count": 340,
   "id": "f490efd2-4280-4965-9ced-5cc91d846532",
   "metadata": {},
   "outputs": [
    {
     "data": {
      "text/html": [
       "<div>\n",
       "<style scoped>\n",
       "    .dataframe tbody tr th:only-of-type {\n",
       "        vertical-align: middle;\n",
       "    }\n",
       "\n",
       "    .dataframe tbody tr th {\n",
       "        vertical-align: top;\n",
       "    }\n",
       "\n",
       "    .dataframe thead th {\n",
       "        text-align: right;\n",
       "    }\n",
       "</style>\n",
       "<table border=\"1\" class=\"dataframe\">\n",
       "  <thead>\n",
       "    <tr style=\"text-align: right;\">\n",
       "      <th></th>\n",
       "      <th>Features</th>\n",
       "      <th>Scores</th>\n",
       "    </tr>\n",
       "  </thead>\n",
       "  <tbody>\n",
       "    <tr>\n",
       "      <th>10</th>\n",
       "      <td>ST slope</td>\n",
       "      <td>334.438420</td>\n",
       "    </tr>\n",
       "    <tr>\n",
       "      <th>8</th>\n",
       "      <td>exercise angina</td>\n",
       "      <td>330.285235</td>\n",
       "    </tr>\n",
       "    <tr>\n",
       "      <th>9</th>\n",
       "      <td>oldpeak</td>\n",
       "      <td>266.381946</td>\n",
       "    </tr>\n",
       "    <tr>\n",
       "      <th>2</th>\n",
       "      <td>chest pain type</td>\n",
       "      <td>246.310825</td>\n",
       "    </tr>\n",
       "    <tr>\n",
       "      <th>7</th>\n",
       "      <td>max heart rate</td>\n",
       "      <td>182.300179</td>\n",
       "    </tr>\n",
       "    <tr>\n",
       "      <th>1</th>\n",
       "      <td>sex</td>\n",
       "      <td>105.238365</td>\n",
       "    </tr>\n",
       "    <tr>\n",
       "      <th>0</th>\n",
       "      <td>age</td>\n",
       "      <td>79.436685</td>\n",
       "    </tr>\n",
       "    <tr>\n",
       "      <th>3</th>\n",
       "      <td>resting bp s</td>\n",
       "      <td>19.171947</td>\n",
       "    </tr>\n",
       "    <tr>\n",
       "      <th>6</th>\n",
       "      <td>resting ecg</td>\n",
       "      <td>16.933771</td>\n",
       "    </tr>\n",
       "    <tr>\n",
       "      <th>5</th>\n",
       "      <td>fasting blood sugar</td>\n",
       "      <td>12.572207</td>\n",
       "    </tr>\n",
       "    <tr>\n",
       "      <th>4</th>\n",
       "      <td>cholesterol</td>\n",
       "      <td>10.935758</td>\n",
       "    </tr>\n",
       "  </tbody>\n",
       "</table>\n",
       "</div>"
      ],
      "text/plain": [
       "               Features      Scores\n",
       "10             ST slope  334.438420\n",
       "8       exercise angina  330.285235\n",
       "9               oldpeak  266.381946\n",
       "2       chest pain type  246.310825\n",
       "7        max heart rate  182.300179\n",
       "1                   sex  105.238365\n",
       "0                   age   79.436685\n",
       "3          resting bp s   19.171947\n",
       "6           resting ecg   16.933771\n",
       "5   fasting blood sugar   12.572207\n",
       "4           cholesterol   10.935758"
      ]
     },
     "execution_count": 340,
     "metadata": {},
     "output_type": "execute_result"
    },
    {
     "name": "stdout",
     "output_type": "stream",
     "text": [
      "time: 8.48 ms (started: 2024-08-30 15:52:39 -05:00)\n"
     ]
    }
   ],
   "source": [
    "feature_scores_data_set"
   ]
  },
  {
   "cell_type": "markdown",
   "id": "7dbc1a64-098e-49ed-ac52-270713455ac7",
   "metadata": {},
   "source": [
    "## Feature selection with ExtraTreesClassifier"
   ]
  },
  {
   "cell_type": "code",
   "execution_count": 341,
   "id": "3f05fb15-f3da-4871-8f2a-3b15e4f5fa27",
   "metadata": {},
   "outputs": [
    {
     "name": "stdout",
     "output_type": "stream",
     "text": [
      "[0.08 0.07 0.12 0.08 0.07 0.02 0.04 0.1  0.15 0.12 0.15]\n"
     ]
    },
    {
     "data": {
      "image/png": "[encoded data removed]",
      "text/plain": [
       "<Figure size 800x550 with 1 Axes>"
      ]
     },
     "metadata": {},
     "output_type": "display_data"
    },
    {
     "name": "stdout",
     "output_type": "stream",
     "text": [
      "time: 173 ms (started: 2024-08-30 15:52:40 -05:00)\n"
     ]
    }
   ],
   "source": [
    "from sklearn.ensemble import ExtraTreesClassifier\n",
    "\n",
    "model = ExtraTreesClassifier()\n",
    "model.fit(X, y)\n",
    "\n",
    "\n",
    "print(model.feature_importances_)\n",
    "\n",
    "\n",
    "feat_importances = pd.Series(model.feature_importances_, index=X.columns)\n",
    "\n",
    "\n",
    "feat_importances.nlargest(13).plot(kind='barh')\n",
    "\n",
    "\n",
    "for index, value in enumerate(feat_importances.nlargest(13)):\n",
    "    plt.text(value, index, str(round(value, 4)))\n",
    "\n",
    "\n",
    "plt.show()"
   ]
  },
  {
   "cell_type": "code",
   "execution_count": 342,
   "id": "33c266ba-38c3-427d-beaa-ec52e538d308",
   "metadata": {},
   "outputs": [
    {
     "name": "stdout",
     "output_type": "stream",
     "text": [
      "time: 503 µs (started: 2024-08-30 15:52:40 -05:00)\n"
     ]
    }
   ],
   "source": [
    "# print (X)\n",
    "X = X.drop([\"fasting blood sugar\", \"resting ecg\", \"cholesterol\",\"age\"], axis = 1)"
   ]
  },
  {
   "cell_type": "code",
   "execution_count": 343,
   "id": "be76c8c9-349f-4f07-9d74-dbce751cb9c3",
   "metadata": {},
   "outputs": [
    {
     "data": {
      "text/plain": [
       "Index(['sex', 'chest pain type', 'resting bp s', 'max heart rate',\n",
       "       'exercise angina', 'oldpeak', 'ST slope'],\n",
       "      dtype='object')"
      ]
     },
     "execution_count": 343,
     "metadata": {},
     "output_type": "execute_result"
    },
    {
     "name": "stdout",
     "output_type": "stream",
     "text": [
      "time: 4.01 ms (started: 2024-08-30 15:52:40 -05:00)\n"
     ]
    }
   ],
   "source": [
    "X.columns"
   ]
  },
  {
   "cell_type": "code",
   "execution_count": 344,
   "id": "53a67bd8-8481-491f-bfa0-e0b800e6e666",
   "metadata": {},
   "outputs": [
    {
     "data": {
      "text/plain": [
       "0      0\n",
       "1      1\n",
       "2      0\n",
       "3      1\n",
       "4      0\n",
       "      ..\n",
       "933    1\n",
       "934    1\n",
       "935    1\n",
       "936    1\n",
       "937    0\n",
       "Name: target, Length: 938, dtype: int64"
      ]
     },
     "execution_count": 344,
     "metadata": {},
     "output_type": "execute_result"
    },
    {
     "name": "stdout",
     "output_type": "stream",
     "text": [
      "time: 5.77 ms (started: 2024-08-30 15:52:41 -05:00)\n"
     ]
    }
   ],
   "source": [
    "y"
   ]
  },
  {
   "cell_type": "code",
   "execution_count": 345,
   "id": "2674e789-7c63-4a1b-b7d0-701aa04f79ec",
   "metadata": {},
   "outputs": [
    {
     "name": "stdout",
     "output_type": "stream",
     "text": [
      "time: 1.42 ms (started: 2024-08-30 15:52:41 -05:00)\n"
     ]
    }
   ],
   "source": [
    "# #Scale all values for good Accuracy\n",
    "# sc = StandardScaler()\n",
    "# col = ['age', 'sex', 'chest pain type', 'resting bp s', 'max heart rate',\n",
    "#        'exercise angina', 'oldpeak', 'ST slope']\n",
    "# X[col] = sc.fit_transform(X[col])\n",
    "# X.head()"
   ]
  },
  {
   "cell_type": "markdown",
   "id": "2d3aa694-f466-4f83-9e85-fd572ca838e1",
   "metadata": {},
   "source": [
    "## Split the data \n"
   ]
  },
  {
   "cell_type": "code",
   "execution_count": 346,
   "id": "bdab5464-0ee1-43bd-bc61-f37aca3673d8",
   "metadata": {},
   "outputs": [
    {
     "name": "stdout",
     "output_type": "stream",
     "text": [
      "time: 9.3 ms (started: 2024-08-30 15:52:41 -05:00)\n"
     ]
    }
   ],
   "source": [
    "X_train , X_test  , y_train , y_test =train_test_split(X, y , test_size=0.2 , random_state=4)\n",
    "# X_train, X_test, y_train, y_test = train_test_split(X, y, test_size=0.20, random_state=42)"
   ]
  },
  {
   "cell_type": "code",
   "execution_count": 347,
   "id": "ddaad23a-6ce3-44db-96cc-e5fbb7ed0789",
   "metadata": {},
   "outputs": [
    {
     "data": {
      "text/html": [
       "<div>\n",
       "<style scoped>\n",
       "    .dataframe tbody tr th:only-of-type {\n",
       "        vertical-align: middle;\n",
       "    }\n",
       "\n",
       "    .dataframe tbody tr th {\n",
       "        vertical-align: top;\n",
       "    }\n",
       "\n",
       "    .dataframe thead th {\n",
       "        text-align: right;\n",
       "    }\n",
       "</style>\n",
       "<table border=\"1\" class=\"dataframe\">\n",
       "  <thead>\n",
       "    <tr style=\"text-align: right;\">\n",
       "      <th></th>\n",
       "      <th>sex</th>\n",
       "      <th>chest pain type</th>\n",
       "      <th>resting bp s</th>\n",
       "      <th>max heart rate</th>\n",
       "      <th>exercise angina</th>\n",
       "      <th>oldpeak</th>\n",
       "      <th>ST slope</th>\n",
       "    </tr>\n",
       "  </thead>\n",
       "  <tbody>\n",
       "    <tr>\n",
       "      <th>260</th>\n",
       "      <td>1</td>\n",
       "      <td>4</td>\n",
       "      <td>140</td>\n",
       "      <td>170</td>\n",
       "      <td>0</td>\n",
       "      <td>0.0</td>\n",
       "      <td>1</td>\n",
       "    </tr>\n",
       "    <tr>\n",
       "      <th>326</th>\n",
       "      <td>1</td>\n",
       "      <td>3</td>\n",
       "      <td>130</td>\n",
       "      <td>144</td>\n",
       "      <td>0</td>\n",
       "      <td>0.1</td>\n",
       "      <td>1</td>\n",
       "    </tr>\n",
       "    <tr>\n",
       "      <th>376</th>\n",
       "      <td>1</td>\n",
       "      <td>4</td>\n",
       "      <td>140</td>\n",
       "      <td>159</td>\n",
       "      <td>1</td>\n",
       "      <td>1.5</td>\n",
       "      <td>1</td>\n",
       "    </tr>\n",
       "    <tr>\n",
       "      <th>668</th>\n",
       "      <td>1</td>\n",
       "      <td>4</td>\n",
       "      <td>140</td>\n",
       "      <td>155</td>\n",
       "      <td>1</td>\n",
       "      <td>3.1</td>\n",
       "      <td>3</td>\n",
       "    </tr>\n",
       "    <tr>\n",
       "      <th>575</th>\n",
       "      <td>1</td>\n",
       "      <td>3</td>\n",
       "      <td>120</td>\n",
       "      <td>194</td>\n",
       "      <td>0</td>\n",
       "      <td>0.8</td>\n",
       "      <td>3</td>\n",
       "    </tr>\n",
       "    <tr>\n",
       "      <th>...</th>\n",
       "      <td>...</td>\n",
       "      <td>...</td>\n",
       "      <td>...</td>\n",
       "      <td>...</td>\n",
       "      <td>...</td>\n",
       "      <td>...</td>\n",
       "      <td>...</td>\n",
       "    </tr>\n",
       "    <tr>\n",
       "      <th>897</th>\n",
       "      <td>1</td>\n",
       "      <td>2</td>\n",
       "      <td>156</td>\n",
       "      <td>143</td>\n",
       "      <td>0</td>\n",
       "      <td>0.0</td>\n",
       "      <td>1</td>\n",
       "    </tr>\n",
       "    <tr>\n",
       "      <th>709</th>\n",
       "      <td>1</td>\n",
       "      <td>4</td>\n",
       "      <td>112</td>\n",
       "      <td>153</td>\n",
       "      <td>0</td>\n",
       "      <td>0.0</td>\n",
       "      <td>1</td>\n",
       "    </tr>\n",
       "    <tr>\n",
       "      <th>439</th>\n",
       "      <td>0</td>\n",
       "      <td>3</td>\n",
       "      <td>120</td>\n",
       "      <td>170</td>\n",
       "      <td>0</td>\n",
       "      <td>0.0</td>\n",
       "      <td>1</td>\n",
       "    </tr>\n",
       "    <tr>\n",
       "      <th>174</th>\n",
       "      <td>1</td>\n",
       "      <td>4</td>\n",
       "      <td>120</td>\n",
       "      <td>138</td>\n",
       "      <td>1</td>\n",
       "      <td>1.0</td>\n",
       "      <td>2</td>\n",
       "    </tr>\n",
       "    <tr>\n",
       "      <th>122</th>\n",
       "      <td>1</td>\n",
       "      <td>4</td>\n",
       "      <td>150</td>\n",
       "      <td>124</td>\n",
       "      <td>1</td>\n",
       "      <td>1.5</td>\n",
       "      <td>2</td>\n",
       "    </tr>\n",
       "  </tbody>\n",
       "</table>\n",
       "<p>750 rows × 7 columns</p>\n",
       "</div>"
      ],
      "text/plain": [
       "     sex  chest pain type  resting bp s  max heart rate  exercise angina  \\\n",
       "260    1                4           140             170                0   \n",
       "326    1                3           130             144                0   \n",
       "376    1                4           140             159                1   \n",
       "668    1                4           140             155                1   \n",
       "575    1                3           120             194                0   \n",
       "..   ...              ...           ...             ...              ...   \n",
       "897    1                2           156             143                0   \n",
       "709    1                4           112             153                0   \n",
       "439    0                3           120             170                0   \n",
       "174    1                4           120             138                1   \n",
       "122    1                4           150             124                1   \n",
       "\n",
       "     oldpeak  ST slope  \n",
       "260      0.0         1  \n",
       "326      0.1         1  \n",
       "376      1.5         1  \n",
       "668      3.1         3  \n",
       "575      0.8         3  \n",
       "..       ...       ...  \n",
       "897      0.0         1  \n",
       "709      0.0         1  \n",
       "439      0.0         1  \n",
       "174      1.0         2  \n",
       "122      1.5         2  \n",
       "\n",
       "[750 rows x 7 columns]"
      ]
     },
     "execution_count": 347,
     "metadata": {},
     "output_type": "execute_result"
    },
    {
     "name": "stdout",
     "output_type": "stream",
     "text": [
      "time: 11.9 ms (started: 2024-08-30 15:52:42 -05:00)\n"
     ]
    }
   ],
   "source": [
    "X_train"
   ]
  },
  {
   "cell_type": "code",
   "execution_count": 348,
   "id": "49bfca00-b8ef-4a07-8acb-e155ddbaec16",
   "metadata": {},
   "outputs": [
    {
     "data": {
      "text/html": [
       "<div>\n",
       "<style scoped>\n",
       "    .dataframe tbody tr th:only-of-type {\n",
       "        vertical-align: middle;\n",
       "    }\n",
       "\n",
       "    .dataframe tbody tr th {\n",
       "        vertical-align: top;\n",
       "    }\n",
       "\n",
       "    .dataframe thead th {\n",
       "        text-align: right;\n",
       "    }\n",
       "</style>\n",
       "<table border=\"1\" class=\"dataframe\">\n",
       "  <thead>\n",
       "    <tr style=\"text-align: right;\">\n",
       "      <th></th>\n",
       "      <th>sex</th>\n",
       "      <th>chest pain type</th>\n",
       "      <th>resting bp s</th>\n",
       "      <th>max heart rate</th>\n",
       "      <th>exercise angina</th>\n",
       "      <th>oldpeak</th>\n",
       "      <th>ST slope</th>\n",
       "    </tr>\n",
       "  </thead>\n",
       "  <tbody>\n",
       "    <tr>\n",
       "      <th>92</th>\n",
       "      <td>1</td>\n",
       "      <td>4</td>\n",
       "      <td>120</td>\n",
       "      <td>140</td>\n",
       "      <td>0</td>\n",
       "      <td>0.0</td>\n",
       "      <td>1</td>\n",
       "    </tr>\n",
       "    <tr>\n",
       "      <th>799</th>\n",
       "      <td>0</td>\n",
       "      <td>3</td>\n",
       "      <td>102</td>\n",
       "      <td>160</td>\n",
       "      <td>0</td>\n",
       "      <td>0.0</td>\n",
       "      <td>1</td>\n",
       "    </tr>\n",
       "    <tr>\n",
       "      <th>374</th>\n",
       "      <td>1</td>\n",
       "      <td>4</td>\n",
       "      <td>145</td>\n",
       "      <td>110</td>\n",
       "      <td>1</td>\n",
       "      <td>1.8</td>\n",
       "      <td>2</td>\n",
       "    </tr>\n",
       "    <tr>\n",
       "      <th>152</th>\n",
       "      <td>1</td>\n",
       "      <td>2</td>\n",
       "      <td>120</td>\n",
       "      <td>150</td>\n",
       "      <td>0</td>\n",
       "      <td>0.0</td>\n",
       "      <td>1</td>\n",
       "    </tr>\n",
       "    <tr>\n",
       "      <th>133</th>\n",
       "      <td>0</td>\n",
       "      <td>2</td>\n",
       "      <td>120</td>\n",
       "      <td>150</td>\n",
       "      <td>0</td>\n",
       "      <td>1.0</td>\n",
       "      <td>2</td>\n",
       "    </tr>\n",
       "    <tr>\n",
       "      <th>...</th>\n",
       "      <td>...</td>\n",
       "      <td>...</td>\n",
       "      <td>...</td>\n",
       "      <td>...</td>\n",
       "      <td>...</td>\n",
       "      <td>...</td>\n",
       "      <td>...</td>\n",
       "    </tr>\n",
       "    <tr>\n",
       "      <th>209</th>\n",
       "      <td>1</td>\n",
       "      <td>3</td>\n",
       "      <td>120</td>\n",
       "      <td>140</td>\n",
       "      <td>0</td>\n",
       "      <td>0.0</td>\n",
       "      <td>1</td>\n",
       "    </tr>\n",
       "    <tr>\n",
       "      <th>304</th>\n",
       "      <td>1</td>\n",
       "      <td>4</td>\n",
       "      <td>146</td>\n",
       "      <td>148</td>\n",
       "      <td>1</td>\n",
       "      <td>3.0</td>\n",
       "      <td>3</td>\n",
       "    </tr>\n",
       "    <tr>\n",
       "      <th>273</th>\n",
       "      <td>1</td>\n",
       "      <td>3</td>\n",
       "      <td>110</td>\n",
       "      <td>99</td>\n",
       "      <td>1</td>\n",
       "      <td>1.3</td>\n",
       "      <td>2</td>\n",
       "    </tr>\n",
       "    <tr>\n",
       "      <th>495</th>\n",
       "      <td>1</td>\n",
       "      <td>4</td>\n",
       "      <td>124</td>\n",
       "      <td>109</td>\n",
       "      <td>1</td>\n",
       "      <td>2.2</td>\n",
       "      <td>2</td>\n",
       "    </tr>\n",
       "    <tr>\n",
       "      <th>13</th>\n",
       "      <td>1</td>\n",
       "      <td>4</td>\n",
       "      <td>140</td>\n",
       "      <td>140</td>\n",
       "      <td>1</td>\n",
       "      <td>1.0</td>\n",
       "      <td>2</td>\n",
       "    </tr>\n",
       "  </tbody>\n",
       "</table>\n",
       "<p>188 rows × 7 columns</p>\n",
       "</div>"
      ],
      "text/plain": [
       "     sex  chest pain type  resting bp s  max heart rate  exercise angina  \\\n",
       "92     1                4           120             140                0   \n",
       "799    0                3           102             160                0   \n",
       "374    1                4           145             110                1   \n",
       "152    1                2           120             150                0   \n",
       "133    0                2           120             150                0   \n",
       "..   ...              ...           ...             ...              ...   \n",
       "209    1                3           120             140                0   \n",
       "304    1                4           146             148                1   \n",
       "273    1                3           110              99                1   \n",
       "495    1                4           124             109                1   \n",
       "13     1                4           140             140                1   \n",
       "\n",
       "     oldpeak  ST slope  \n",
       "92       0.0         1  \n",
       "799      0.0         1  \n",
       "374      1.8         2  \n",
       "152      0.0         1  \n",
       "133      1.0         2  \n",
       "..       ...       ...  \n",
       "209      0.0         1  \n",
       "304      3.0         3  \n",
       "273      1.3         2  \n",
       "495      2.2         2  \n",
       "13       1.0         2  \n",
       "\n",
       "[188 rows x 7 columns]"
      ]
     },
     "execution_count": 348,
     "metadata": {},
     "output_type": "execute_result"
    },
    {
     "name": "stdout",
     "output_type": "stream",
     "text": [
      "time: 11.5 ms (started: 2024-08-30 15:52:42 -05:00)\n"
     ]
    }
   ],
   "source": [
    "X_test"
   ]
  },
  {
   "cell_type": "markdown",
   "id": "18eeb7cc-debc-488b-b126-0d5317a88e05",
   "metadata": {},
   "source": [
    "## Scale data with MinMaxScaler and OneHotEncoder"
   ]
  },
  {
   "cell_type": "code",
   "execution_count": 349,
   "id": "ca667931-a1de-4e70-80a5-d22e8da4e007",
   "metadata": {},
   "outputs": [
    {
     "name": "stdout",
     "output_type": "stream",
     "text": [
      "time: 3.9 ms (started: 2024-08-30 15:52:43 -05:00)\n"
     ]
    }
   ],
   "source": [
    "dataset_num=X_train[[\"resting bp s\", \"max heart rate\"]]\n",
    "dataset_cat=X_train[[\"sex\",\"chest pain type\", \"exercise angina\" , \"oldpeak\" , \"ST slope\"]]\n",
    "\n"
   ]
  },
  {
   "cell_type": "code",
   "execution_count": 350,
   "id": "458ab182-b332-4b47-b178-b4e7f5ecdb65",
   "metadata": {},
   "outputs": [
    {
     "name": "stdout",
     "output_type": "stream",
     "text": [
      "time: 21.6 ms (started: 2024-08-30 15:52:43 -05:00)\n"
     ]
    }
   ],
   "source": [
    "\n",
    "from sklearn.compose import ColumnTransformer\n",
    "from sklearn.preprocessing import StandardScaler , OneHotEncoder , MinMaxScaler , OrdinalEncoder\n",
    "\n",
    "std_list=list(dataset_num)\n",
    "cat_list=list(dataset_cat)\n",
    "full_pipeline=ColumnTransformer([\n",
    "    (\"std\" , MinMaxScaler() , std_list),\n",
    "    (\"1hot\" ,OneHotEncoder(handle_unknown = \"ignore\")  , cat_list),\n",
    "])\n",
    "x_train_prepared=full_pipeline.fit_transform(X_train)\n",
    "# x_train_prepared.toarray()\n",
    "\n",
    "# x_prepared = full_pipeline.fit_transform(X_train)\n",
    "x_train_prepared.toarray()\n",
    "x_test_prepared = full_pipeline.transform(X_test)\n"
   ]
  },
  {
   "cell_type": "code",
   "execution_count": 351,
   "id": "9a24544c-2ce8-4bff-b653-6059f8e79ee9",
   "metadata": {},
   "outputs": [
    {
     "name": "stdout",
     "output_type": "stream",
     "text": [
      "time: 229 µs (started: 2024-08-30 15:52:43 -05:00)\n"
     ]
    }
   ],
   "source": [
    "# full_pipeline.fit_transform(X_test)"
   ]
  },
  {
   "cell_type": "code",
   "execution_count": 352,
   "id": "04de1ca6-700e-4ed6-83f1-891f92b70a7f",
   "metadata": {},
   "outputs": [
    {
     "name": "stdout",
     "output_type": "stream",
     "text": [
      "time: 2.26 ms (started: 2024-08-30 15:52:43 -05:00)\n"
     ]
    }
   ],
   "source": [
    "from sklearn.metrics import precision_score , recall_score , f1_score , accuracy_score\n",
    "from sklearn.model_selection import cross_val_predict , GridSearchCV\n",
    "from sklearn.neighbors import KNeighborsClassifier\n",
    "from sklearn.tree import DecisionTreeClassifier\n",
    "from sklearn.linear_model import LogisticRegression\n",
    "from sklearn.svm import SVC\n",
    "from sklearn.metrics import classification_report , confusion_matrix \n",
    "from sklearn.metrics import ConfusionMatrixDisplay\n",
    "import warnings\n",
    "warnings.filterwarnings(\"ignore\")\n",
    "import itertools    \n",
    "from sklearn.feature_selection import SelectKBest , f_regression"
   ]
  },
  {
   "cell_type": "code",
   "execution_count": 353,
   "id": "18fec29f-4f59-4669-bfeb-9c69b73cceb0",
   "metadata": {},
   "outputs": [
    {
     "name": "stdout",
     "output_type": "stream",
     "text": [
      "time: 10.3 ms (started: 2024-08-30 15:52:44 -05:00)\n"
     ]
    }
   ],
   "source": [
    "sample_data=X_train.iloc[:10]\n",
    "sample_label=y_train[:10]\n",
    "sample_data_pre=full_pipeline.transform(sample_data)"
   ]
  },
  {
   "cell_type": "code",
   "execution_count": 354,
   "id": "467275d4-ed9e-4667-bbc2-a0c67f0a4c3a",
   "metadata": {},
   "outputs": [
    {
     "name": "stdout",
     "output_type": "stream",
     "text": [
      "time: 2.45 ms (started: 2024-08-30 15:52:44 -05:00)\n"
     ]
    }
   ],
   "source": [
    "# I picked this code from the IBM course for classification\n",
    "def plot_confusion_matrix(cm, classes,\n",
    "                          normalize=False,\n",
    "                          title='Confusion matrix',\n",
    "                          cmap=plt.cm.Blues):\n",
    "    \"\"\"\n",
    "    This function prints and plots the confusion matrix.\n",
    "    Normalization can be applied by setting `normalize=True`.\n",
    "    \"\"\"\n",
    "    if normalize:\n",
    "        cm = cm.astype('float') / cm.sum(axis=1)[:, np.newaxis]\n",
    "        print(\"Normalized confusion matrix\")\n",
    "    else:\n",
    "        print('Confusion matrix, without normalization')\n",
    "\n",
    "    print(cm)\n",
    "\n",
    "    plt.imshow(cm, interpolation='nearest', cmap=cmap)\n",
    "    plt.title(title)\n",
    "    plt.colorbar()\n",
    "    tick_marks = np.arange(len(classes))\n",
    "    plt.xticks(tick_marks, classes, rotation=45)\n",
    "    plt.yticks(tick_marks, classes)\n",
    "\n",
    "    fmt = '.2f' if normalize else 'd'\n",
    "    thresh = cm.max() / 2.\n",
    "    for i, j in itertools.product(range(cm.shape[0]), range(cm.shape[1])):\n",
    "        plt.text(j, i, format(cm[i, j], fmt),\n",
    "                 horizontalalignment=\"center\",\n",
    "                 color=\"black\" if cm[i, j] > thresh else \"black\")\n",
    "\n",
    "    plt.tight_layout()\n",
    "    plt.ylabel('True label')"
   ]
  },
  {
   "cell_type": "code",
   "execution_count": 355,
   "id": "1e2357db-a4a0-4374-9305-44a0222227e7",
   "metadata": {},
   "outputs": [
    {
     "name": "stdout",
     "output_type": "stream",
     "text": [
      "time: 743 µs (started: 2024-08-30 15:52:45 -05:00)\n"
     ]
    }
   ],
   "source": [
    "def sample_data(model):\n",
    "    print (\"prediction :\" ,  model.predict(sample_data_pre))\n",
    "    print  (\"labels:\" ,  list(sample_label))"
   ]
  },
  {
   "cell_type": "code",
   "execution_count": 356,
   "id": "b105a9cd-d83a-445a-b819-c3b1167b2a75",
   "metadata": {},
   "outputs": [
    {
     "name": "stdout",
     "output_type": "stream",
     "text": [
      "time: 1.4 ms (started: 2024-08-30 15:52:45 -05:00)\n"
     ]
    }
   ],
   "source": [
    "def gridsearchcv(param_grid , model):\n",
    "    \n",
    "    grid = GridSearchCV(model, param_grid, cv=5, scoring='accuracy')\n",
    "    grid_search=grid.fit(x_train_prepared, y_train)\n",
    "    print(\"Best Hyperparameters:\", grid_search.best_params_)\n",
    "    print(\"Best Accuracy:\", grid_search.best_score_)"
   ]
  },
  {
   "cell_type": "code",
   "execution_count": null,
   "id": "d02cf118-6287-4371-a07d-68f231d8f351",
   "metadata": {},
   "outputs": [],
   "source": []
  },
  {
   "cell_type": "code",
   "execution_count": 357,
   "id": "96fbc8ba-ccd8-4c2f-921c-a628f62a662a",
   "metadata": {},
   "outputs": [
    {
     "data": {
      "text/html": [
       "<style>#sk-container-id-3 {\n",
       "  /* Definition of color scheme common for light and dark mode */\n",
       "  --sklearn-color-text: black;\n",
       "  --sklearn-color-line: gray;\n",
       "  /* Definition of color scheme for unfitted estimators */\n",
       "  --sklearn-color-unfitted-level-0: #fff5e6;\n",
       "  --sklearn-color-unfitted-level-1: #f6e4d2;\n",
       "  --sklearn-color-unfitted-level-2: #ffe0b3;\n",
       "  --sklearn-color-unfitted-level-3: chocolate;\n",
       "  /* Definition of color scheme for fitted estimators */\n",
       "  --sklearn-color-fitted-level-0: #f0f8ff;\n",
       "  --sklearn-color-fitted-level-1: #d4ebff;\n",
       "  --sklearn-color-fitted-level-2: #b3dbfd;\n",
       "  --sklearn-color-fitted-level-3: cornflowerblue;\n",
       "\n",
       "  /* Specific color for light theme */\n",
       "  --sklearn-color-text-on-default-background: var(--sg-text-color, var(--theme-code-foreground, var(--jp-content-font-color1, black)));\n",
       "  --sklearn-color-background: var(--sg-background-color, var(--theme-background, var(--jp-layout-color0, white)));\n",
       "  --sklearn-color-border-box: var(--sg-text-color, var(--theme-code-foreground, var(--jp-content-font-color1, black)));\n",
       "  --sklearn-color-icon: #696969;\n",
       "\n",
       "  @media (prefers-color-scheme: dark) {\n",
       "    /* Redefinition of color scheme for dark theme */\n",
       "    --sklearn-color-text-on-default-background: var(--sg-text-color, var(--theme-code-foreground, var(--jp-content-font-color1, white)));\n",
       "    --sklearn-color-background: var(--sg-background-color, var(--theme-background, var(--jp-layout-color0, #111)));\n",
       "    --sklearn-color-border-box: var(--sg-text-color, var(--theme-code-foreground, var(--jp-content-font-color1, white)));\n",
       "    --sklearn-color-icon: #878787;\n",
       "  }\n",
       "}\n",
       "\n",
       "#sk-container-id-3 {\n",
       "  color: var(--sklearn-color-text);\n",
       "}\n",
       "\n",
       "#sk-container-id-3 pre {\n",
       "  padding: 0;\n",
       "}\n",
       "\n",
       "#sk-container-id-3 input.sk-hidden--visually {\n",
       "  border: 0;\n",
       "  clip: rect(1px 1px 1px 1px);\n",
       "  clip: rect(1px, 1px, 1px, 1px);\n",
       "  height: 1px;\n",
       "  margin: -1px;\n",
       "  overflow: hidden;\n",
       "  padding: 0;\n",
       "  position: absolute;\n",
       "  width: 1px;\n",
       "}\n",
       "\n",
       "#sk-container-id-3 div.sk-dashed-wrapped {\n",
       "  border: 1px dashed var(--sklearn-color-line);\n",
       "  margin: 0 0.4em 0.5em 0.4em;\n",
       "  box-sizing: border-box;\n",
       "  padding-bottom: 0.4em;\n",
       "  background-color: var(--sklearn-color-background);\n",
       "}\n",
       "\n",
       "#sk-container-id-3 div.sk-container {\n",
       "  /* jupyter's `normalize.less` sets `[hidden] { display: none; }`\n",
       "     but bootstrap.min.css set `[hidden] { display: none !important; }`\n",
       "     so we also need the `!important` here to be able to override the\n",
       "     default hidden behavior on the sphinx rendered scikit-learn.org.\n",
       "     See: https://github.com/scikit-learn/scikit-learn/issues/21755 */\n",
       "  display: inline-block !important;\n",
       "  position: relative;\n",
       "}\n",
       "\n",
       "#sk-container-id-3 div.sk-text-repr-fallback {\n",
       "  display: none;\n",
       "}\n",
       "\n",
       "div.sk-parallel-item,\n",
       "div.sk-serial,\n",
       "div.sk-item {\n",
       "  /* draw centered vertical line to link estimators */\n",
       "  background-image: linear-gradient(var(--sklearn-color-text-on-default-background), var(--sklearn-color-text-on-default-background));\n",
       "  background-size: 2px 100%;\n",
       "  background-repeat: no-repeat;\n",
       "  background-position: center center;\n",
       "}\n",
       "\n",
       "/* Parallel-specific style estimator block */\n",
       "\n",
       "#sk-container-id-3 div.sk-parallel-item::after {\n",
       "  content: \"\";\n",
       "  width: 100%;\n",
       "  border-bottom: 2px solid var(--sklearn-color-text-on-default-background);\n",
       "  flex-grow: 1;\n",
       "}\n",
       "\n",
       "#sk-container-id-3 div.sk-parallel {\n",
       "  display: flex;\n",
       "  align-items: stretch;\n",
       "  justify-content: center;\n",
       "  background-color: var(--sklearn-color-background);\n",
       "  position: relative;\n",
       "}\n",
       "\n",
       "#sk-container-id-3 div.sk-parallel-item {\n",
       "  display: flex;\n",
       "  flex-direction: column;\n",
       "}\n",
       "\n",
       "#sk-container-id-3 div.sk-parallel-item:first-child::after {\n",
       "  align-self: flex-end;\n",
       "  width: 50%;\n",
       "}\n",
       "\n",
       "#sk-container-id-3 div.sk-parallel-item:last-child::after {\n",
       "  align-self: flex-start;\n",
       "  width: 50%;\n",
       "}\n",
       "\n",
       "#sk-container-id-3 div.sk-parallel-item:only-child::after {\n",
       "  width: 0;\n",
       "}\n",
       "\n",
       "/* Serial-specific style estimator block */\n",
       "\n",
       "#sk-container-id-3 div.sk-serial {\n",
       "  display: flex;\n",
       "  flex-direction: column;\n",
       "  align-items: center;\n",
       "  background-color: var(--sklearn-color-background);\n",
       "  padding-right: 1em;\n",
       "  padding-left: 1em;\n",
       "}\n",
       "\n",
       "\n",
       "/* Toggleable style: style used for estimator/Pipeline/ColumnTransformer box that is\n",
       "clickable and can be expanded/collapsed.\n",
       "- Pipeline and ColumnTransformer use this feature and define the default style\n",
       "- Estimators will overwrite some part of the style using the `sk-estimator` class\n",
       "*/\n",
       "\n",
       "/* Pipeline and ColumnTransformer style (default) */\n",
       "\n",
       "#sk-container-id-3 div.sk-toggleable {\n",
       "  /* Default theme specific background. It is overwritten whether we have a\n",
       "  specific estimator or a Pipeline/ColumnTransformer */\n",
       "  background-color: var(--sklearn-color-background);\n",
       "}\n",
       "\n",
       "/* Toggleable label */\n",
       "#sk-container-id-3 label.sk-toggleable__label {\n",
       "  cursor: pointer;\n",
       "  display: block;\n",
       "  width: 100%;\n",
       "  margin-bottom: 0;\n",
       "  padding: 0.5em;\n",
       "  box-sizing: border-box;\n",
       "  text-align: center;\n",
       "}\n",
       "\n",
       "#sk-container-id-3 label.sk-toggleable__label-arrow:before {\n",
       "  /* Arrow on the left of the label */\n",
       "  content: \"▸\";\n",
       "  float: left;\n",
       "  margin-right: 0.25em;\n",
       "  color: var(--sklearn-color-icon);\n",
       "}\n",
       "\n",
       "#sk-container-id-3 label.sk-toggleable__label-arrow:hover:before {\n",
       "  color: var(--sklearn-color-text);\n",
       "}\n",
       "\n",
       "/* Toggleable content - dropdown */\n",
       "\n",
       "#sk-container-id-3 div.sk-toggleable__content {\n",
       "  max-height: 0;\n",
       "  max-width: 0;\n",
       "  overflow: hidden;\n",
       "  text-align: left;\n",
       "  /* unfitted */\n",
       "  background-color: var(--sklearn-color-unfitted-level-0);\n",
       "}\n",
       "\n",
       "#sk-container-id-3 div.sk-toggleable__content.fitted {\n",
       "  /* fitted */\n",
       "  background-color: var(--sklearn-color-fitted-level-0);\n",
       "}\n",
       "\n",
       "#sk-container-id-3 div.sk-toggleable__content pre {\n",
       "  margin: 0.2em;\n",
       "  border-radius: 0.25em;\n",
       "  color: var(--sklearn-color-text);\n",
       "  /* unfitted */\n",
       "  background-color: var(--sklearn-color-unfitted-level-0);\n",
       "}\n",
       "\n",
       "#sk-container-id-3 div.sk-toggleable__content.fitted pre {\n",
       "  /* unfitted */\n",
       "  background-color: var(--sklearn-color-fitted-level-0);\n",
       "}\n",
       "\n",
       "#sk-container-id-3 input.sk-toggleable__control:checked~div.sk-toggleable__content {\n",
       "  /* Expand drop-down */\n",
       "  max-height: 200px;\n",
       "  max-width: 100%;\n",
       "  overflow: auto;\n",
       "}\n",
       "\n",
       "#sk-container-id-3 input.sk-toggleable__control:checked~label.sk-toggleable__label-arrow:before {\n",
       "  content: \"▾\";\n",
       "}\n",
       "\n",
       "/* Pipeline/ColumnTransformer-specific style */\n",
       "\n",
       "#sk-container-id-3 div.sk-label input.sk-toggleable__control:checked~label.sk-toggleable__label {\n",
       "  color: var(--sklearn-color-text);\n",
       "  background-color: var(--sklearn-color-unfitted-level-2);\n",
       "}\n",
       "\n",
       "#sk-container-id-3 div.sk-label.fitted input.sk-toggleable__control:checked~label.sk-toggleable__label {\n",
       "  background-color: var(--sklearn-color-fitted-level-2);\n",
       "}\n",
       "\n",
       "/* Estimator-specific style */\n",
       "\n",
       "/* Colorize estimator box */\n",
       "#sk-container-id-3 div.sk-estimator input.sk-toggleable__control:checked~label.sk-toggleable__label {\n",
       "  /* unfitted */\n",
       "  background-color: var(--sklearn-color-unfitted-level-2);\n",
       "}\n",
       "\n",
       "#sk-container-id-3 div.sk-estimator.fitted input.sk-toggleable__control:checked~label.sk-toggleable__label {\n",
       "  /* fitted */\n",
       "  background-color: var(--sklearn-color-fitted-level-2);\n",
       "}\n",
       "\n",
       "#sk-container-id-3 div.sk-label label.sk-toggleable__label,\n",
       "#sk-container-id-3 div.sk-label label {\n",
       "  /* The background is the default theme color */\n",
       "  color: var(--sklearn-color-text-on-default-background);\n",
       "}\n",
       "\n",
       "/* On hover, darken the color of the background */\n",
       "#sk-container-id-3 div.sk-label:hover label.sk-toggleable__label {\n",
       "  color: var(--sklearn-color-text);\n",
       "  background-color: var(--sklearn-color-unfitted-level-2);\n",
       "}\n",
       "\n",
       "/* Label box, darken color on hover, fitted */\n",
       "#sk-container-id-3 div.sk-label.fitted:hover label.sk-toggleable__label.fitted {\n",
       "  color: var(--sklearn-color-text);\n",
       "  background-color: var(--sklearn-color-fitted-level-2);\n",
       "}\n",
       "\n",
       "/* Estimator label */\n",
       "\n",
       "#sk-container-id-3 div.sk-label label {\n",
       "  font-family: monospace;\n",
       "  font-weight: bold;\n",
       "  display: inline-block;\n",
       "  line-height: 1.2em;\n",
       "}\n",
       "\n",
       "#sk-container-id-3 div.sk-label-container {\n",
       "  text-align: center;\n",
       "}\n",
       "\n",
       "/* Estimator-specific */\n",
       "#sk-container-id-3 div.sk-estimator {\n",
       "  font-family: monospace;\n",
       "  border: 1px dotted var(--sklearn-color-border-box);\n",
       "  border-radius: 0.25em;\n",
       "  box-sizing: border-box;\n",
       "  margin-bottom: 0.5em;\n",
       "  /* unfitted */\n",
       "  background-color: var(--sklearn-color-unfitted-level-0);\n",
       "}\n",
       "\n",
       "#sk-container-id-3 div.sk-estimator.fitted {\n",
       "  /* fitted */\n",
       "  background-color: var(--sklearn-color-fitted-level-0);\n",
       "}\n",
       "\n",
       "/* on hover */\n",
       "#sk-container-id-3 div.sk-estimator:hover {\n",
       "  /* unfitted */\n",
       "  background-color: var(--sklearn-color-unfitted-level-2);\n",
       "}\n",
       "\n",
       "#sk-container-id-3 div.sk-estimator.fitted:hover {\n",
       "  /* fitted */\n",
       "  background-color: var(--sklearn-color-fitted-level-2);\n",
       "}\n",
       "\n",
       "/* Specification for estimator info (e.g. \"i\" and \"?\") */\n",
       "\n",
       "/* Common style for \"i\" and \"?\" */\n",
       "\n",
       ".sk-estimator-doc-link,\n",
       "a:link.sk-estimator-doc-link,\n",
       "a:visited.sk-estimator-doc-link {\n",
       "  float: right;\n",
       "  font-size: smaller;\n",
       "  line-height: 1em;\n",
       "  font-family: monospace;\n",
       "  background-color: var(--sklearn-color-background);\n",
       "  border-radius: 1em;\n",
       "  height: 1em;\n",
       "  width: 1em;\n",
       "  text-decoration: none !important;\n",
       "  margin-left: 1ex;\n",
       "  /* unfitted */\n",
       "  border: var(--sklearn-color-unfitted-level-1) 1pt solid;\n",
       "  color: var(--sklearn-color-unfitted-level-1);\n",
       "}\n",
       "\n",
       ".sk-estimator-doc-link.fitted,\n",
       "a:link.sk-estimator-doc-link.fitted,\n",
       "a:visited.sk-estimator-doc-link.fitted {\n",
       "  /* fitted */\n",
       "  border: var(--sklearn-color-fitted-level-1) 1pt solid;\n",
       "  color: var(--sklearn-color-fitted-level-1);\n",
       "}\n",
       "\n",
       "/* On hover */\n",
       "div.sk-estimator:hover .sk-estimator-doc-link:hover,\n",
       ".sk-estimator-doc-link:hover,\n",
       "div.sk-label-container:hover .sk-estimator-doc-link:hover,\n",
       ".sk-estimator-doc-link:hover {\n",
       "  /* unfitted */\n",
       "  background-color: var(--sklearn-color-unfitted-level-3);\n",
       "  color: var(--sklearn-color-background);\n",
       "  text-decoration: none;\n",
       "}\n",
       "\n",
       "div.sk-estimator.fitted:hover .sk-estimator-doc-link.fitted:hover,\n",
       ".sk-estimator-doc-link.fitted:hover,\n",
       "div.sk-label-container:hover .sk-estimator-doc-link.fitted:hover,\n",
       ".sk-estimator-doc-link.fitted:hover {\n",
       "  /* fitted */\n",
       "  background-color: var(--sklearn-color-fitted-level-3);\n",
       "  color: var(--sklearn-color-background);\n",
       "  text-decoration: none;\n",
       "}\n",
       "\n",
       "/* Span, style for the box shown on hovering the info icon */\n",
       ".sk-estimator-doc-link span {\n",
       "  display: none;\n",
       "  z-index: 9999;\n",
       "  position: relative;\n",
       "  font-weight: normal;\n",
       "  right: .2ex;\n",
       "  padding: .5ex;\n",
       "  margin: .5ex;\n",
       "  width: min-content;\n",
       "  min-width: 20ex;\n",
       "  max-width: 50ex;\n",
       "  color: var(--sklearn-color-text);\n",
       "  box-shadow: 2pt 2pt 4pt #999;\n",
       "  /* unfitted */\n",
       "  background: var(--sklearn-color-unfitted-level-0);\n",
       "  border: .5pt solid var(--sklearn-color-unfitted-level-3);\n",
       "}\n",
       "\n",
       ".sk-estimator-doc-link.fitted span {\n",
       "  /* fitted */\n",
       "  background: var(--sklearn-color-fitted-level-0);\n",
       "  border: var(--sklearn-color-fitted-level-3);\n",
       "}\n",
       "\n",
       ".sk-estimator-doc-link:hover span {\n",
       "  display: block;\n",
       "}\n",
       "\n",
       "/* \"?\"-specific style due to the `<a>` HTML tag */\n",
       "\n",
       "#sk-container-id-3 a.estimator_doc_link {\n",
       "  float: right;\n",
       "  font-size: 1rem;\n",
       "  line-height: 1em;\n",
       "  font-family: monospace;\n",
       "  background-color: var(--sklearn-color-background);\n",
       "  border-radius: 1rem;\n",
       "  height: 1rem;\n",
       "  width: 1rem;\n",
       "  text-decoration: none;\n",
       "  /* unfitted */\n",
       "  color: var(--sklearn-color-unfitted-level-1);\n",
       "  border: var(--sklearn-color-unfitted-level-1) 1pt solid;\n",
       "}\n",
       "\n",
       "#sk-container-id-3 a.estimator_doc_link.fitted {\n",
       "  /* fitted */\n",
       "  border: var(--sklearn-color-fitted-level-1) 1pt solid;\n",
       "  color: var(--sklearn-color-fitted-level-1);\n",
       "}\n",
       "\n",
       "/* On hover */\n",
       "#sk-container-id-3 a.estimator_doc_link:hover {\n",
       "  /* unfitted */\n",
       "  background-color: var(--sklearn-color-unfitted-level-3);\n",
       "  color: var(--sklearn-color-background);\n",
       "  text-decoration: none;\n",
       "}\n",
       "\n",
       "#sk-container-id-3 a.estimator_doc_link.fitted:hover {\n",
       "  /* fitted */\n",
       "  background-color: var(--sklearn-color-fitted-level-3);\n",
       "}\n",
       "</style><div id=\"sk-container-id-3\" class=\"sk-top-container\"><div class=\"sk-text-repr-fallback\"><pre>KNeighborsClassifier(algorithm=&#x27;ball_tree&#x27;, metric=&#x27;euclidean&#x27;, n_neighbors=3,\n",
       "                     weights=&#x27;distance&#x27;)</pre><b>In a Jupyter environment, please rerun this cell to show the HTML representation or trust the notebook. <br />On GitHub, the HTML representation is unable to render, please try loading this page with nbviewer.org.</b></div><div class=\"sk-container\" hidden><div class=\"sk-item\"><div class=\"sk-estimator fitted sk-toggleable\"><input class=\"sk-toggleable__control sk-hidden--visually\" id=\"sk-estimator-id-3\" type=\"checkbox\" checked><label for=\"sk-estimator-id-3\" class=\"sk-toggleable__label fitted sk-toggleable__label-arrow fitted\">&nbsp;&nbsp;KNeighborsClassifier<a class=\"sk-estimator-doc-link fitted\" rel=\"noreferrer\" target=\"_blank\" href=\"https://scikit-learn.org/1.5/modules/generated/sklearn.neighbors.KNeighborsClassifier.html\">?<span>Documentation for KNeighborsClassifier</span></a><span class=\"sk-estimator-doc-link fitted\">i<span>Fitted</span></span></label><div class=\"sk-toggleable__content fitted\"><pre>KNeighborsClassifier(algorithm=&#x27;ball_tree&#x27;, metric=&#x27;euclidean&#x27;, n_neighbors=3,\n",
       "                     weights=&#x27;distance&#x27;)</pre></div> </div></div></div></div>"
      ],
      "text/plain": [
       "KNeighborsClassifier(algorithm='ball_tree', metric='euclidean', n_neighbors=3,\n",
       "                     weights='distance')"
      ]
     },
     "execution_count": 357,
     "metadata": {},
     "output_type": "execute_result"
    },
    {
     "name": "stdout",
     "output_type": "stream",
     "text": [
      "time: 11.7 ms (started: 2024-08-30 15:52:46 -05:00)\n"
     ]
    }
   ],
   "source": [
    "knn= KNeighborsClassifier(metric= 'euclidean', n_neighbors= 3, weights='distance', algorithm='ball_tree')\n",
    "knn.fit(x_train_prepared,y_train)\n",
    "\n",
    "# sample_data(knn)"
   ]
  },
  {
   "cell_type": "code",
   "execution_count": 358,
   "id": "fdf95bcd-0203-4c02-8f3f-e6c95ff48374",
   "metadata": {},
   "outputs": [
    {
     "name": "stdout",
     "output_type": "stream",
     "text": [
      "Precision score: 0.90625\n",
      "Recall score: 0.8868501529051988\n",
      "fscore score: 0.8964451313755796\n",
      "accuracy score: 0.9106666666666666\n",
      "time: 64.8 ms (started: 2024-08-30 15:52:46 -05:00)\n"
     ]
    }
   ],
   "source": [
    "knn_pred = cross_val_predict(knn, x_train_prepared, y_train, cv=20)\n",
    "precision = precision_score(y_train, knn_pred)\n",
    "recall = recall_score(y_train, knn_pred)\n",
    "fscore=f1_score(y_train ,knn_pred )\n",
    "accuracy=accuracy_score(y_train ,knn_pred)\n",
    "print(f\"Precision score: {precision}\")\n",
    "print(f\"Recall score: {recall}\")\n",
    "print(f\"fscore score: {fscore}\")\n",
    "print(f\"accuracy score: {accuracy}\")"
   ]
  },
  {
   "cell_type": "markdown",
   "id": "23c4107a-8e40-4cce-a846-9c3fa56bb400",
   "metadata": {},
   "source": [
    "## Evaluation of KNN"
   ]
  },
  {
   "cell_type": "code",
   "execution_count": 359,
   "id": "f84d3ea9-8d5e-424b-b84f-86b664dd3701",
   "metadata": {
    "scrolled": true
   },
   "outputs": [
    {
     "name": "stdout",
     "output_type": "stream",
     "text": [
      "Precision_Score:0.9010989010989011\n",
      "Recall_Score:0.8723404255319149\n",
      "Accuracy:0.8882978723404256\n",
      "time: 18.4 ms (started: 2024-08-30 15:52:47 -05:00)\n"
     ]
    }
   ],
   "source": [
    "x_test_predict = knn.predict(x_test_prepared)\n",
    "print(f\"Precision_Score:{precision_score(y_test , x_test_predict)}\")\n",
    "print(f\"Recall_Score:{recall_score(y_test , x_test_predict)}\")\n",
    "print(f\"Accuracy:{accuracy_score(y_test , x_test_predict)}\")"
   ]
  },
  {
   "cell_type": "markdown",
   "id": "a7b1957d-881f-44f4-881b-34dd35cbc8f9",
   "metadata": {},
   "source": [
    "## s"
   ]
  },
  {
   "cell_type": "code",
   "execution_count": 360,
   "id": "7735b05d-661c-4930-93c5-6be63b0e8a29",
   "metadata": {},
   "outputs": [
    {
     "name": "stdout",
     "output_type": "stream",
     "text": [
      "Best Hyperparameters: {'metric': 'euclidean', 'n_neighbors': 9, 'weights': 'distance'}\n",
      "Best Accuracy: 0.9173333333333332\n",
      "time: 469 ms (started: 2024-08-30 15:52:48 -05:00)\n"
     ]
    }
   ],
   "source": [
    "param_grid_knn = {\n",
    "    'n_neighbors': [3, 5, 7, 9], \n",
    "    'weights': ['uniform', 'distance'], \n",
    "    'metric': ['euclidean', 'manhattan'] \n",
    "}\n",
    "gridsearchcv(param_grid_knn , KNeighborsClassifier() )"
   ]
  },
  {
   "cell_type": "code",
   "execution_count": 361,
   "id": "2e442e5e-0e6c-4568-8ca0-da96cf412e13",
   "metadata": {},
   "outputs": [
    {
     "name": "stdout",
     "output_type": "stream",
     "text": [
      "              precision    recall  f1-score   support\n",
      "\n",
      "           0       0.91      0.93      0.92       423\n",
      "           1       0.91      0.89      0.90       327\n",
      "\n",
      "    accuracy                           0.91       750\n",
      "   macro avg       0.91      0.91      0.91       750\n",
      "weighted avg       0.91      0.91      0.91       750\n",
      "\n",
      "Confusion matrix, without normalization\n",
      "[[393  30]\n",
      " [ 37 290]]\n"
     ]
    },
    {
     "data": {
      "image/png": "[encoded data removed]",
      "text/plain": [
       "<Figure size 800x550 with 2 Axes>"
      ]
     },
     "metadata": {},
     "output_type": "display_data"
    },
    {
     "name": "stdout",
     "output_type": "stream",
     "text": [
      "time: 88.2 ms (started: 2024-08-30 15:52:48 -05:00)\n"
     ]
    }
   ],
   "source": [
    "cm=confusion_matrix(y_train, knn_pred)\n",
    "np.set_printoptions(precision=2)\n",
    "print (classification_report(y_train, knn_pred))\n",
    "plt.figure()\n",
    "plot_confusion_matrix(cm, classes=['1','0'],normalize= False,  title='Confusion matrix')"
   ]
  },
  {
   "cell_type": "markdown",
   "id": "44b95b70-915b-40b5-9df8-d2ab32bba6f8",
   "metadata": {},
   "source": [
    "# Decision tree"
   ]
  },
  {
   "cell_type": "code",
   "execution_count": 362,
   "id": "5ebc338e-9eab-43ad-9bc6-ccb177340d8a",
   "metadata": {},
   "outputs": [
    {
     "name": "stdout",
     "output_type": "stream",
     "text": [
      "prediction : [0 0 1 1 0 1 1 0 1 0]\n",
      "labels: [0, 0, 1, 1, 0, 1, 0, 1, 1, 0]\n",
      "time: 7.12 ms (started: 2024-08-30 15:52:55 -05:00)\n"
     ]
    }
   ],
   "source": [
    "tree= DecisionTreeClassifier(criterion= 'gini', max_depth =20, max_features='sqrt', min_samples_leaf= 4,min_samples_split=10, random_state=None, splitter='random')\n",
    "tree.fit(x_train_prepared,y_train)\n",
    "sample_data(tree)"
   ]
  },
  {
   "cell_type": "code",
   "execution_count": 363,
   "id": "7efe22d3-ed8c-4d89-81a3-25733e901dc2",
   "metadata": {},
   "outputs": [
    {
     "name": "stdout",
     "output_type": "stream",
     "text": [
      "Precision score: 0.744807121661721\n",
      "Recall score: 0.7675840978593272\n",
      "fscore score: 0.7560240963855421\n",
      "accuracy score: 0.784\n",
      "time: 22.8 ms (started: 2024-08-30 15:52:56 -05:00)\n"
     ]
    }
   ],
   "source": [
    "tree_pred = cross_val_predict(tree, x_train_prepared, y_train, cv=5)\n",
    "precision = precision_score(y_train, tree_pred)\n",
    "recall = recall_score(y_train, tree_pred)\n",
    "fscore=f1_score(y_train ,tree_pred )\n",
    "accuracy=accuracy_score(y_train ,tree_pred)\n",
    "print(f\"Precision score: {precision}\")\n",
    "print(f\"Recall score: {recall}\")\n",
    "print(f\"fscore score: {fscore}\")\n",
    "print(f\"accuracy score: {accuracy}\")"
   ]
  },
  {
   "cell_type": "code",
   "execution_count": 364,
   "id": "86f1ed4f-6d88-4e70-8365-ec114a733946",
   "metadata": {},
   "outputs": [
    {
     "name": "stdout",
     "output_type": "stream",
     "text": [
      "Best Hyperparameters: {'criterion': 'gini', 'max_depth': 20, 'max_features': 'sqrt', 'min_samples_leaf': 1, 'min_samples_split': 2, 'random_state': None, 'splitter': 'random'}\n",
      "Best Accuracy: 0.9\n",
      "time: 5.97 s (started: 2024-08-30 15:52:57 -05:00)\n"
     ]
    }
   ],
   "source": [
    "param_grid_tree = {\n",
    "    'criterion': ['gini', 'entropy'],\n",
    "    'splitter': ['best', 'random'],\n",
    "    'max_depth': [None, 5, 10, 15, 20],\n",
    "    'min_samples_split': [2, 5, 10],\n",
    "    'min_samples_leaf': [1, 2, 4],\n",
    "    'max_features': [None, 'sqrt', 'log2'],\n",
    "    'random_state': [None, 42]  \n",
    "}\n",
    "gridsearchcv(param_grid_tree , DecisionTreeClassifier())"
   ]
  },
  {
   "cell_type": "code",
   "execution_count": 365,
   "id": "9090e54c-6f51-4432-8f0b-3530a1b2947c",
   "metadata": {},
   "outputs": [
    {
     "name": "stdout",
     "output_type": "stream",
     "text": [
      "              precision    recall  f1-score   support\n",
      "\n",
      "           0       0.82      0.80      0.81       423\n",
      "           1       0.74      0.77      0.76       327\n",
      "\n",
      "    accuracy                           0.78       750\n",
      "   macro avg       0.78      0.78      0.78       750\n",
      "weighted avg       0.78      0.78      0.78       750\n",
      "\n",
      "Confusion matrix, without normalization\n",
      "[[337  86]\n",
      " [ 76 251]]\n"
     ]
    },
    {
     "data": {
      "image/png": "[encoded data removed]",
      "text/plain": [
       "<Figure size 800x550 with 2 Axes>"
      ]
     },
     "metadata": {},
     "output_type": "display_data"
    },
    {
     "name": "stdout",
     "output_type": "stream",
     "text": [
      "time: 82 ms (started: 2024-08-30 15:53:03 -05:00)\n"
     ]
    }
   ],
   "source": [
    "cm=confusion_matrix(y_train, tree_pred)\n",
    "np.set_printoptions(precision=2)\n",
    "print (classification_report(y_train, tree_pred))\n",
    "plt.figure()\n",
    "plot_confusion_matrix(cm, classes=['1','0'],normalize= False,  title='Confusion matrix')"
   ]
  },
  {
   "cell_type": "markdown",
   "id": "b9e33a70-7ff2-4949-a7c1-f06f5c718d94",
   "metadata": {},
   "source": [
    "## Evaluation of  Decision tree"
   ]
  },
  {
   "cell_type": "code",
   "execution_count": 374,
   "id": "97c4ae6b-ff94-4f90-a93f-2fe29900ad2b",
   "metadata": {},
   "outputs": [
    {
     "name": "stdout",
     "output_type": "stream",
     "text": [
      "Classification report: \n",
      "               precision    recall  f1-score   support\n",
      "\n",
      "           0       0.81      0.86      0.84        94\n",
      "           1       0.85      0.80      0.82        94\n",
      "\n",
      "    accuracy                           0.83       188\n",
      "   macro avg       0.83      0.83      0.83       188\n",
      "weighted avg       0.83      0.83      0.83       188\n",
      "\n",
      "Confusion matrix: \n",
      " [[81 13]\n",
      " [19 75]]\n",
      "time: 14.1 ms (started: 2024-08-30 17:49:32 -05:00)\n"
     ]
    }
   ],
   "source": [
    "# x_test_predict=tree.predict(x_test_prepared)\n",
    "# print(f\"Precision_Score:{precision_score(y_test , x_test_predict)}\")\n",
    "# print(f\"Recall_Score:{recall_score(y_test , x_test_predict)}\")\n",
    "# print(f\"Accuracy:{accuracy_score(y_test , x_test_predict)}\")\n",
    "\n",
    "expected_yt  = y_test\n",
    "predicted_yt = tree.predict(x_test_prepared) \n",
    "# print classification report and confusion matrix for svm classifier\n",
    "print(\"Classification report: \\n\",classification_report(expected_yt, predicted_yt))\n",
    "print(\"Confusion matrix: \\n\",confusion_matrix(expected_yt, predicted_yt))"
   ]
  },
  {
   "cell_type": "code",
   "execution_count": 375,
   "id": "3046a7af-3158-428c-a743-19b55cae088e",
   "metadata": {},
   "outputs": [
    {
     "data": {
      "image/png": "[encoded data removed]",
      "text/plain": [
       "<Figure size 800x550 with 1 Axes>"
      ]
     },
     "metadata": {},
     "output_type": "display_data"
    },
    {
     "name": "stdout",
     "output_type": "stream",
     "text": [
      "time: 106 ms (started: 2024-08-30 17:49:36 -05:00)\n"
     ]
    }
   ],
   "source": [
    "# ROC curve of LR\n",
    "plt.style.use('seaborn-v0_8')\n",
    "\n",
    "def plot_roc_curve(fper, tper):\n",
    "    plt.plot(fper, tper, color='blue', label='ROC')\n",
    "    plt.plot([0, 1], [0, 1], color='green', linestyle='--')\n",
    "    plt.xlabel('False Positive Rate')\n",
    "    plt.ylabel('True Positive Rate')\n",
    "    plt.title('Receiver Operating Characteristic Curve')\n",
    "    plt.legend()\n",
    "    plt.show()\n",
    "    \n",
    "fper, tper, thresholds = roc_curve(expected_yt, predicted_yt)\n",
    "plot_roc_curve(fper, tper)"
   ]
  },
  {
   "cell_type": "markdown",
   "id": "57272b1d-b034-441b-8432-67c0562f8c0d",
   "metadata": {},
   "source": [
    "# Logistic regression"
   ]
  },
  {
   "cell_type": "code",
   "execution_count": 367,
   "id": "f9d26817-ca13-4a16-955e-915f9939c82c",
   "metadata": {},
   "outputs": [
    {
     "name": "stdout",
     "output_type": "stream",
     "text": [
      "prediction : [0 0 1 1 0 1 1 1 1 0]\n",
      "labels: [0, 0, 1, 1, 0, 1, 0, 1, 1, 0]\n",
      "time: 11.9 ms (started: 2024-08-30 15:53:03 -05:00)\n"
     ]
    }
   ],
   "source": [
    "lr = LogisticRegression(C= 1, penalty= 'l2')\n",
    "lr.fit(x_train_prepared,y_train)\n",
    "sample_data(lr)"
   ]
  },
  {
   "cell_type": "code",
   "execution_count": 368,
   "id": "ee1f5588-bbe0-4f74-8e8d-a85e8a9fec10",
   "metadata": {},
   "outputs": [
    {
     "name": "stdout",
     "output_type": "stream",
     "text": [
      "Precision score: 0.8126888217522659\n",
      "Recall score: 0.8226299694189603\n",
      "fscore score: 0.817629179331307\n",
      "accuracy score: 0.84\n",
      "time: 39.6 ms (started: 2024-08-30 15:53:07 -05:00)\n"
     ]
    }
   ],
   "source": [
    "lr_pred = cross_val_predict(lr, x_train_prepared, y_train, cv=5)\n",
    "precision = precision_score(y_train, lr_pred)\n",
    "recall = recall_score(y_train, lr_pred)\n",
    "fscore=f1_score(y_train ,lr_pred )\n",
    "accuracy=accuracy_score(y_train ,lr_pred)\n",
    "print(f\"Precision score: {precision}\")\n",
    "print(f\"Recall score: {recall}\")\n",
    "print(f\"fscore score: {fscore}\")\n",
    "print(f\"accuracy score: {accuracy}\")"
   ]
  },
  {
   "cell_type": "code",
   "execution_count": 369,
   "id": "d6140169-5bb2-4284-8c7b-530f0c524582",
   "metadata": {},
   "outputs": [
    {
     "name": "stdout",
     "output_type": "stream",
     "text": [
      "Best Hyperparameters: {'C': 100, 'penalty': 'l2'}\n",
      "Best Accuracy: 0.8413333333333333\n",
      "time: 118 ms (started: 2024-08-30 15:53:08 -05:00)\n"
     ]
    }
   ],
   "source": [
    "param_grid_lr = {\n",
    "    'penalty': ['l1', 'l2'],\n",
    "    'C': [0.01, 0.1, 1, 10, 100] \n",
    "}\n",
    "gridsearchcv(param_grid_lr , LogisticRegression())"
   ]
  },
  {
   "cell_type": "code",
   "execution_count": 370,
   "id": "de999750-a0da-4c07-878e-755368f74e8f",
   "metadata": {},
   "outputs": [
    {
     "name": "stdout",
     "output_type": "stream",
     "text": [
      "              precision    recall  f1-score   support\n",
      "\n",
      "           0       0.86      0.85      0.86       423\n",
      "           1       0.81      0.82      0.82       327\n",
      "\n",
      "    accuracy                           0.84       750\n",
      "   macro avg       0.84      0.84      0.84       750\n",
      "weighted avg       0.84      0.84      0.84       750\n",
      "\n",
      "Confusion matrix, without normalization\n",
      "[[361  62]\n",
      " [ 58 269]]\n"
     ]
    },
    {
     "data": {
      "image/png": "[encoded data removed]",
      "text/plain": [
       "<Figure size 800x550 with 2 Axes>"
      ]
     },
     "metadata": {},
     "output_type": "display_data"
    },
    {
     "name": "stdout",
     "output_type": "stream",
     "text": [
      "time: 116 ms (started: 2024-08-30 15:53:13 -05:00)\n"
     ]
    }
   ],
   "source": [
    "cm=confusion_matrix(y_train, lr_pred)\n",
    "np.set_printoptions(precision=2)\n",
    "print (classification_report(y_train, lr_pred))\n",
    "plt.figure()\n",
    "plot_confusion_matrix(cm, classes=['1','0'],normalize= False,  title='Confusion matrix')"
   ]
  },
  {
   "cell_type": "markdown",
   "id": "ac3d249c-3a35-43d4-ab85-d947e0d0474f",
   "metadata": {},
   "source": [
    "## Evaluation of logistic"
   ]
  },
  {
   "cell_type": "code",
   "execution_count": 376,
   "id": "785fa84c-7a82-45f9-8186-d36c4ac53fbe",
   "metadata": {},
   "outputs": [
    {
     "name": "stdout",
     "output_type": "stream",
     "text": [
      "Classification report: \n",
      "               precision    recall  f1-score   support\n",
      "\n",
      "           0       0.85      0.88      0.86        94\n",
      "           1       0.88      0.84      0.86        94\n",
      "\n",
      "    accuracy                           0.86       188\n",
      "   macro avg       0.86      0.86      0.86       188\n",
      "weighted avg       0.86      0.86      0.86       188\n",
      "\n",
      "Confusion matrix: \n",
      " [[83 11]\n",
      " [15 79]]\n",
      "time: 12.8 ms (started: 2024-08-30 17:50:20 -05:00)\n"
     ]
    }
   ],
   "source": [
    "# x_test_predict=lr.predict(x_test_prepared)\n",
    "# print(f\"Precision_Score:{precision_score(y_test , x_test_predict)}\")\n",
    "# print(f\"Recall_Score:{recall_score(y_test , x_test_predict)}\")\n",
    "# print(f\"Accuracy:{accuracy_score(y_test , x_test_predict)}\")\n",
    "# classification report of lr\n",
    "expected_yl  = y_test\n",
    "predicted_yl= lr.predict(x_test_prepared) \n",
    "# print classification report and confusion matrix for svm classifier\n",
    "print(\"Classification report: \\n\",classification_report(expected_yl, predicted_yl))\n",
    "print(\"Confusion matrix: \\n\",confusion_matrix(expected_yl, predicted_yl))"
   ]
  },
  {
   "cell_type": "code",
   "execution_count": 377,
   "id": "67a2cae3-64ca-4604-b691-b1a6094b511a",
   "metadata": {},
   "outputs": [
    {
     "data": {
      "image/png": "[encoded data removed]",
      "text/plain": [
       "<Figure size 800x550 with 1 Axes>"
      ]
     },
     "metadata": {},
     "output_type": "display_data"
    },
    {
     "name": "stdout",
     "output_type": "stream",
     "text": [
      "time: 105 ms (started: 2024-08-30 17:50:20 -05:00)\n"
     ]
    }
   ],
   "source": [
    "# ROC curve of LR\n",
    "plt.style.use('seaborn-v0_8')\n",
    "\n",
    "def plot_roc_curve(fper, tper):\n",
    "    plt.plot(fper, tper, color='blue', label='ROC')\n",
    "    plt.plot([0, 1], [0, 1], color='green', linestyle='--')\n",
    "    plt.xlabel('False Positive Rate')\n",
    "    plt.ylabel('True Positive Rate')\n",
    "    plt.title('Receiver Operating Characteristic Curve')\n",
    "    plt.legend()\n",
    "    plt.show()\n",
    "    \n",
    "fper, tper, thresholds = roc_curve(expected_yl, predicted_yl)\n",
    "plot_roc_curve(fper, tper)"
   ]
  },
  {
   "cell_type": "markdown",
   "id": "8fc83cb2-c2e1-4d77-8746-c2a65aced8b0",
   "metadata": {},
   "source": [
    "# SVM"
   ]
  },
  {
   "cell_type": "code",
   "execution_count": 255,
   "id": "0812cfa0-f6df-47c1-b0c0-21e57e022dfb",
   "metadata": {},
   "outputs": [
    {
     "name": "stdout",
     "output_type": "stream",
     "text": [
      "prediction : [0 0 1 1 0 1 0 1 1 0]\n",
      "labels: [0, 0, 1, 1, 0, 1, 0, 1, 1, 0]\n",
      "time: 44 ms (started: 2024-08-25 21:19:31 -05:00)\n"
     ]
    }
   ],
   "source": [
    "svm= SVC(C= 1000, gamma= 1, kernel='rbf')\n",
    "svm.fit(x_train_prepared,y_train)\n",
    "sample_data(svm)"
   ]
  },
  {
   "cell_type": "code",
   "execution_count": 256,
   "id": "9b66d8d3-e0c4-4845-a293-8ae14e441b91",
   "metadata": {},
   "outputs": [
    {
     "name": "stdout",
     "output_type": "stream",
     "text": [
      "Precision score: 0.8972602739726028\n",
      "Recall score: 0.8012232415902141\n",
      "fscore score: 0.8465266558966075\n",
      "accuracy score: 0.8733333333333333\n",
      "time: 83.6 ms (started: 2024-08-25 21:19:34 -05:00)\n"
     ]
    }
   ],
   "source": [
    "svm_pred = cross_val_predict(svm, x_train_prepared, y_train, cv=5)\n",
    "precision = precision_score(y_train, svm_pred)\n",
    "recall = recall_score(y_train, svm_pred)\n",
    "fscore=f1_score(y_train ,svm_pred )\n",
    "accuracy=accuracy_score(y_train ,svm_pred)\n",
    "print(f\"Precision score: {precision}\")\n",
    "print(f\"Recall score: {recall}\")\n",
    "print(f\"fscore score: {fscore}\")\n",
    "print(f\"accuracy score: {accuracy}\")"
   ]
  },
  {
   "cell_type": "code",
   "execution_count": 258,
   "id": "3b68546d-282e-4af4-ae28-b9e3ddf7997c",
   "metadata": {},
   "outputs": [
    {
     "name": "stdout",
     "output_type": "stream",
     "text": [
      "Best Hyperparameters: {'C': 100, 'gamma': 1, 'kernel': 'rbf'}\n",
      "Best Accuracy: 0.8853333333333333\n",
      "time: 17.6 s (started: 2024-08-25 21:19:58 -05:00)\n"
     ]
    }
   ],
   "source": [
    "param_grid_svm = {'C': [0.1, 1, 10, 100, 1000],  \n",
    "              'gamma': [1, 0.1, 0.01, 0.001, 0.0001], \n",
    "              'kernel': ['linear', 'poly', 'rbf', 'sigmoid'],}  \n",
    "gridsearchcv(param_grid_svm , SVC())"
   ]
  },
  {
   "cell_type": "code",
   "execution_count": 260,
   "id": "dc40d363-676a-4e9d-a61a-6e5a4e80fa0f",
   "metadata": {},
   "outputs": [
    {
     "name": "stdout",
     "output_type": "stream",
     "text": [
      "              precision    recall  f1-score   support\n",
      "\n",
      "           0       0.86      0.85      0.86       423\n",
      "           1       0.81      0.82      0.82       327\n",
      "\n",
      "    accuracy                           0.84       750\n",
      "   macro avg       0.84      0.84      0.84       750\n",
      "weighted avg       0.84      0.84      0.84       750\n",
      "\n",
      "Confusion matrix, without normalization\n",
      "[[361  62]\n",
      " [ 58 269]]\n"
     ]
    },
    {
     "data": {
      "image/png": "[encoded data removed]",
      "text/plain": [
       "<Figure size 800x550 with 2 Axes>"
      ]
     },
     "metadata": {},
     "output_type": "display_data"
    },
    {
     "name": "stdout",
     "output_type": "stream",
     "text": [
      "time: 111 ms (started: 2024-08-25 21:23:42 -05:00)\n"
     ]
    }
   ],
   "source": [
    "cm=confusion_matrix(y_train, lr_pred)\n",
    "np.set_printoptions(precision=2)\n",
    "print (classification_report(y_train, lr_pred))\n",
    "plt.figure()\n",
    "plot_confusion_matrix(cm, classes=['1','0'],normalize= False,  title='Confusion matrix')"
   ]
  },
  {
   "cell_type": "markdown",
   "id": "e19a32f2-02d6-4b5e-b003-93330bb09e91",
   "metadata": {},
   "source": [
    "## Evaluation of SVM"
   ]
  },
  {
   "cell_type": "code",
   "execution_count": 378,
   "id": "a03e77be-39b6-42c7-a24e-e9e332b0ad05",
   "metadata": {},
   "outputs": [
    {
     "name": "stdout",
     "output_type": "stream",
     "text": [
      "Classification report: \n",
      "               precision    recall  f1-score   support\n",
      "\n",
      "           0       0.79      0.95      0.86        94\n",
      "           1       0.93      0.76      0.84        94\n",
      "\n",
      "    accuracy                           0.85       188\n",
      "   macro avg       0.86      0.85      0.85       188\n",
      "weighted avg       0.86      0.85      0.85       188\n",
      "\n",
      "Confusion matrix: \n",
      " [[89  5]\n",
      " [23 71]]\n",
      "time: 17.5 ms (started: 2024-08-30 17:50:41 -05:00)\n"
     ]
    }
   ],
   "source": [
    "\n",
    "# classification report of SVM\n",
    "expected_ys  = y_test\n",
    "predicted_ys = svm.predict(x_test_prepared) \n",
    "\n",
    "# print classification report and confusion matrix for svm classifier\n",
    "print(\"Classification report: \\n\",classification_report(expected_ys, predicted_ys))\n",
    "print(\"Confusion matrix: \\n\",confusion_matrix(expected_ys, predicted_ys))\n",
    "# x_test_predict=svm.predict(x_test_prepared)\n",
    "# print(f\"Precision_Score:{precision_score(y_test , x_test_predict)}\")\n",
    "# print(f\"Recall_Score:{recall_score(y_test , x_test_predict)}\")\n",
    "# print(f\"Accuracy:{accuracy_score(y_test , x_test_predict)}\")"
   ]
  },
  {
   "cell_type": "code",
   "execution_count": 262,
   "id": "3e9e373c-5642-47d7-a2d4-847ecdf35bdc",
   "metadata": {},
   "outputs": [
    {
     "name": "stdout",
     "output_type": "stream",
     "text": [
      "time: 3.29 ms (started: 2024-08-25 21:24:19 -05:00)\n"
     ]
    }
   ],
   "source": [
    "import numpy as np\n",
    "import seaborn as sns\n",
    "import pandas as pd\n",
    "import matplotlib.pyplot as plt\n",
    "\n",
    "#sklearn\n",
    "from sklearn.svm import SVC \n",
    "from sklearn.neural_network import MLPClassifier\n",
    "from sklearn.decomposition import PCA\n",
    "from sklearn.model_selection import train_test_split\n",
    "from sklearn.preprocessing import StandardScaler, MinMaxScaler\n",
    "from sklearn import metrics\n",
    "from sklearn.metrics import confusion_matrix\n",
    "from sklearn.metrics import ConfusionMatrixDisplay\n",
    "from sklearn.metrics import roc_curve\n",
    "from sklearn.metrics import accuracy_score\n",
    "from sklearn.model_selection import KFold\n",
    "from sklearn.pipeline import make_pipeline\n",
    "from sklearn.ensemble import BaggingClassifier\n",
    "from sklearn.model_selection import cross_val_score"
   ]
  },
  {
   "cell_type": "code",
   "execution_count": 263,
   "id": "4dd60db6-03ea-42bd-bb2d-b58b58f0a002",
   "metadata": {},
   "outputs": [
    {
     "name": "stdout",
     "output_type": "stream",
     "text": [
      "time: 3.15 ms (started: 2024-08-25 21:24:20 -05:00)\n"
     ]
    }
   ],
   "source": [
    "#qiskit\n",
    "from qiskit import *\n",
    "from qiskit.circuit import Parameter\n",
    "from qiskit.circuit.library import ZZFeatureMap, ZFeatureMap, TwoLocal, RealAmplitudes\n",
    "# from qiskit.utils import QuantumInstance, algorithm_globals\n",
    "from qiskit_machine_learning.algorithms import QSVC, NeuralNetworkClassifier,VQC\n"
   ]
  },
  {
   "cell_type": "code",
   "execution_count": 264,
   "id": "18b9a516-9095-4c99-8ad5-d2f489d5a34d",
   "metadata": {},
   "outputs": [
    {
     "name": "stdout",
     "output_type": "stream",
     "text": [
      "time: 2.85 ms (started: 2024-08-25 21:24:20 -05:00)\n"
     ]
    }
   ],
   "source": [
    "# from qiskit_machine_learning.algorithms.NeuralNetworkClassifier import VQC\n",
    "# from qiskit_machine_learning.kernels import QuantumKernel\n",
    "from qiskit_algorithms.optimizers import SPSA, L_BFGS_B, COBYLA\n",
    "# from qiskit_machine_learning.neural_networks import CircuitQNN\n",
    "# from qiskit_machine_learning.exceptions import QiskitMachineLearningError\n",
    "from IPython.display import clear_output\n",
    "from typing import Union\n"
   ]
  },
  {
   "cell_type": "code",
   "execution_count": 265,
   "id": "cbf504af-01c3-4b88-be52-23d991ab4aa0",
   "metadata": {},
   "outputs": [
    {
     "name": "stdout",
     "output_type": "stream",
     "text": [
      "time: 2.73 ms (started: 2024-08-25 21:24:21 -05:00)\n"
     ]
    }
   ],
   "source": [
    "from qiskit_algorithms.state_fidelities import ComputeUncompute\n",
    "from qiskit.primitives import Sampler\n",
    "from qiskit_machine_learning.kernels import FidelityQuantumKernel\n",
    "\n",
    "from qiskit_machine_learning.neural_networks import SamplerQNN\n",
    "\n",
    "\n",
    "\n",
    "import warnings\n",
    "warnings.filterwarnings('ignore')"
   ]
  },
  {
   "cell_type": "code",
   "execution_count": 266,
   "id": "15266f53-d698-4eb6-81a5-0ea52e633b7f",
   "metadata": {},
   "outputs": [
    {
     "data": {
      "text/html": [
       "<div>\n",
       "<style scoped>\n",
       "    .dataframe tbody tr th:only-of-type {\n",
       "        vertical-align: middle;\n",
       "    }\n",
       "\n",
       "    .dataframe tbody tr th {\n",
       "        vertical-align: top;\n",
       "    }\n",
       "\n",
       "    .dataframe thead th {\n",
       "        text-align: right;\n",
       "    }\n",
       "</style>\n",
       "<table border=\"1\" class=\"dataframe\">\n",
       "  <thead>\n",
       "    <tr style=\"text-align: right;\">\n",
       "      <th></th>\n",
       "      <th>age</th>\n",
       "      <th>sex</th>\n",
       "      <th>chest pain type</th>\n",
       "      <th>resting bp s</th>\n",
       "      <th>cholesterol</th>\n",
       "      <th>fasting blood sugar</th>\n",
       "      <th>resting ecg</th>\n",
       "      <th>max heart rate</th>\n",
       "      <th>exercise angina</th>\n",
       "      <th>oldpeak</th>\n",
       "      <th>ST slope</th>\n",
       "      <th>target</th>\n",
       "    </tr>\n",
       "  </thead>\n",
       "  <tbody>\n",
       "    <tr>\n",
       "      <th>0</th>\n",
       "      <td>40</td>\n",
       "      <td>1</td>\n",
       "      <td>2</td>\n",
       "      <td>140</td>\n",
       "      <td>289</td>\n",
       "      <td>0</td>\n",
       "      <td>0</td>\n",
       "      <td>172</td>\n",
       "      <td>0</td>\n",
       "      <td>0.0</td>\n",
       "      <td>1</td>\n",
       "      <td>0</td>\n",
       "    </tr>\n",
       "    <tr>\n",
       "      <th>1</th>\n",
       "      <td>49</td>\n",
       "      <td>0</td>\n",
       "      <td>3</td>\n",
       "      <td>160</td>\n",
       "      <td>180</td>\n",
       "      <td>0</td>\n",
       "      <td>0</td>\n",
       "      <td>156</td>\n",
       "      <td>0</td>\n",
       "      <td>1.0</td>\n",
       "      <td>2</td>\n",
       "      <td>1</td>\n",
       "    </tr>\n",
       "    <tr>\n",
       "      <th>2</th>\n",
       "      <td>37</td>\n",
       "      <td>1</td>\n",
       "      <td>2</td>\n",
       "      <td>130</td>\n",
       "      <td>283</td>\n",
       "      <td>0</td>\n",
       "      <td>1</td>\n",
       "      <td>98</td>\n",
       "      <td>0</td>\n",
       "      <td>0.0</td>\n",
       "      <td>1</td>\n",
       "      <td>0</td>\n",
       "    </tr>\n",
       "    <tr>\n",
       "      <th>3</th>\n",
       "      <td>48</td>\n",
       "      <td>0</td>\n",
       "      <td>4</td>\n",
       "      <td>138</td>\n",
       "      <td>214</td>\n",
       "      <td>0</td>\n",
       "      <td>0</td>\n",
       "      <td>108</td>\n",
       "      <td>1</td>\n",
       "      <td>1.5</td>\n",
       "      <td>2</td>\n",
       "      <td>1</td>\n",
       "    </tr>\n",
       "    <tr>\n",
       "      <th>4</th>\n",
       "      <td>54</td>\n",
       "      <td>1</td>\n",
       "      <td>3</td>\n",
       "      <td>150</td>\n",
       "      <td>195</td>\n",
       "      <td>0</td>\n",
       "      <td>0</td>\n",
       "      <td>122</td>\n",
       "      <td>0</td>\n",
       "      <td>0.0</td>\n",
       "      <td>1</td>\n",
       "      <td>0</td>\n",
       "    </tr>\n",
       "    <tr>\n",
       "      <th>...</th>\n",
       "      <td>...</td>\n",
       "      <td>...</td>\n",
       "      <td>...</td>\n",
       "      <td>...</td>\n",
       "      <td>...</td>\n",
       "      <td>...</td>\n",
       "      <td>...</td>\n",
       "      <td>...</td>\n",
       "      <td>...</td>\n",
       "      <td>...</td>\n",
       "      <td>...</td>\n",
       "      <td>...</td>\n",
       "    </tr>\n",
       "    <tr>\n",
       "      <th>1185</th>\n",
       "      <td>45</td>\n",
       "      <td>1</td>\n",
       "      <td>1</td>\n",
       "      <td>110</td>\n",
       "      <td>264</td>\n",
       "      <td>0</td>\n",
       "      <td>0</td>\n",
       "      <td>132</td>\n",
       "      <td>0</td>\n",
       "      <td>1.2</td>\n",
       "      <td>2</td>\n",
       "      <td>1</td>\n",
       "    </tr>\n",
       "    <tr>\n",
       "      <th>1186</th>\n",
       "      <td>68</td>\n",
       "      <td>1</td>\n",
       "      <td>4</td>\n",
       "      <td>144</td>\n",
       "      <td>193</td>\n",
       "      <td>1</td>\n",
       "      <td>0</td>\n",
       "      <td>141</td>\n",
       "      <td>0</td>\n",
       "      <td>3.4</td>\n",
       "      <td>2</td>\n",
       "      <td>1</td>\n",
       "    </tr>\n",
       "    <tr>\n",
       "      <th>1187</th>\n",
       "      <td>57</td>\n",
       "      <td>1</td>\n",
       "      <td>4</td>\n",
       "      <td>130</td>\n",
       "      <td>131</td>\n",
       "      <td>0</td>\n",
       "      <td>0</td>\n",
       "      <td>115</td>\n",
       "      <td>1</td>\n",
       "      <td>1.2</td>\n",
       "      <td>2</td>\n",
       "      <td>1</td>\n",
       "    </tr>\n",
       "    <tr>\n",
       "      <th>1188</th>\n",
       "      <td>57</td>\n",
       "      <td>0</td>\n",
       "      <td>2</td>\n",
       "      <td>130</td>\n",
       "      <td>236</td>\n",
       "      <td>0</td>\n",
       "      <td>2</td>\n",
       "      <td>174</td>\n",
       "      <td>0</td>\n",
       "      <td>0.0</td>\n",
       "      <td>2</td>\n",
       "      <td>1</td>\n",
       "    </tr>\n",
       "    <tr>\n",
       "      <th>1189</th>\n",
       "      <td>38</td>\n",
       "      <td>1</td>\n",
       "      <td>3</td>\n",
       "      <td>138</td>\n",
       "      <td>175</td>\n",
       "      <td>0</td>\n",
       "      <td>0</td>\n",
       "      <td>173</td>\n",
       "      <td>0</td>\n",
       "      <td>0.0</td>\n",
       "      <td>1</td>\n",
       "      <td>0</td>\n",
       "    </tr>\n",
       "  </tbody>\n",
       "</table>\n",
       "<p>1190 rows × 12 columns</p>\n",
       "</div>"
      ],
      "text/plain": [
       "      age  sex  chest pain type  resting bp s  cholesterol  \\\n",
       "0      40    1                2           140          289   \n",
       "1      49    0                3           160          180   \n",
       "2      37    1                2           130          283   \n",
       "3      48    0                4           138          214   \n",
       "4      54    1                3           150          195   \n",
       "...   ...  ...              ...           ...          ...   \n",
       "1185   45    1                1           110          264   \n",
       "1186   68    1                4           144          193   \n",
       "1187   57    1                4           130          131   \n",
       "1188   57    0                2           130          236   \n",
       "1189   38    1                3           138          175   \n",
       "\n",
       "      fasting blood sugar  resting ecg  max heart rate  exercise angina  \\\n",
       "0                       0            0             172                0   \n",
       "1                       0            0             156                0   \n",
       "2                       0            1              98                0   \n",
       "3                       0            0             108                1   \n",
       "4                       0            0             122                0   \n",
       "...                   ...          ...             ...              ...   \n",
       "1185                    0            0             132                0   \n",
       "1186                    1            0             141                0   \n",
       "1187                    0            0             115                1   \n",
       "1188                    0            2             174                0   \n",
       "1189                    0            0             173                0   \n",
       "\n",
       "      oldpeak  ST slope  target  \n",
       "0         0.0         1       0  \n",
       "1         1.0         2       1  \n",
       "2         0.0         1       0  \n",
       "3         1.5         2       1  \n",
       "4         0.0         1       0  \n",
       "...       ...       ...     ...  \n",
       "1185      1.2         2       1  \n",
       "1186      3.4         2       1  \n",
       "1187      1.2         2       1  \n",
       "1188      0.0         2       1  \n",
       "1189      0.0         1       0  \n",
       "\n",
       "[1190 rows x 12 columns]"
      ]
     },
     "execution_count": 266,
     "metadata": {},
     "output_type": "execute_result"
    },
    {
     "name": "stdout",
     "output_type": "stream",
     "text": [
      "time: 22.2 ms (started: 2024-08-25 21:24:21 -05:00)\n"
     ]
    }
   ],
   "source": [
    "df = pd.read_csv('heart_statlog_cleveland_hungary_final.csv')\n",
    "df"
   ]
  },
  {
   "cell_type": "code",
   "execution_count": 267,
   "id": "b05f3e60-171c-454f-84c2-ea135ebc8f7d",
   "metadata": {},
   "outputs": [
    {
     "name": "stdout",
     "output_type": "stream",
     "text": [
      "time: 758 µs (started: 2024-08-25 21:24:22 -05:00)\n"
     ]
    }
   ],
   "source": [
    "# from sklearn.feature_selection import RFE\n",
    "# from sklearn.svm import SVC\n",
    "\n",
    "# X = data.drop(['target'] ,axis=\"columns\")\n",
    "# y = data['target']\n",
    "\n",
    "# estimator = SVC(kernel=\"linear\")\n",
    "# selector = RFE(estimator, n_features_to_select=6, step=1)\n",
    "# # selector = selector.fit(X, y)"
   ]
  },
  {
   "cell_type": "code",
   "execution_count": 268,
   "id": "2c33775d-dfcd-4c27-a448-5b221fa4ac78",
   "metadata": {},
   "outputs": [
    {
     "name": "stdout",
     "output_type": "stream",
     "text": [
      "time: 741 µs (started: 2024-08-25 21:24:22 -05:00)\n"
     ]
    }
   ],
   "source": [
    "# from operator import itemgetter\n",
    "# features = X.columns.to_list()\n",
    "# for x, y in (sorted(zip(selector.ranking_ , features), key=itemgetter(0))):\n",
    "#     print(x, y)"
   ]
  },
  {
   "cell_type": "markdown",
   "id": "f3618559-6ac6-4282-a940-1d19ccd684a6",
   "metadata": {},
   "source": [
    "# Classical classifiers"
   ]
  },
  {
   "cell_type": "markdown",
   "id": "da52f4fe-f59e-4690-908e-9b327a7d5703",
   "metadata": {},
   "source": [
    "## SVM"
   ]
  },
  {
   "cell_type": "code",
   "execution_count": 269,
   "id": "15127884-c226-4fe1-bad0-b78ebaafdb97",
   "metadata": {},
   "outputs": [
    {
     "name": "stdout",
     "output_type": "stream",
     "text": [
      "time: 907 µs (started: 2024-08-25 21:24:24 -05:00)\n"
     ]
    }
   ],
   "source": [
    "# # classical SVM\n",
    "# # X = data[['ca','cp','thal','exang','slope']]\n",
    "# # y = data['target']\n",
    "\n",
    "# # X_train, X_test, y_train, y_test = train_test_split(X, y, test_size=0.20, random_state=42)\n",
    "\n",
    "# # Create svm Classifier\n",
    "# ClassifierSVM = SVC()\n",
    "\n",
    "# # Train the model using the training set\n",
    "# ClassifierSVM.fit(x_train_prepared,y_train)\n",
    "\n",
    "# # Predict the response for test dataset\n",
    "# y_pred = ClassifierSVM.predict(x_train_prepared)\n",
    "\n",
    "# # Model Accuracy: \n",
    "# print(\"Accuracy:\",metrics.accuracy_score(y_test, y_pred))"
   ]
  },
  {
   "cell_type": "code",
   "execution_count": 379,
   "id": "e2c8e564-d3bf-440a-97da-c524be48c1b0",
   "metadata": {},
   "outputs": [
    {
     "data": {
      "image/png": "[encoded data removed]",
      "text/plain": [
       "<Figure size 800x550 with 1 Axes>"
      ]
     },
     "metadata": {},
     "output_type": "display_data"
    },
    {
     "name": "stdout",
     "output_type": "stream",
     "text": [
      "time: 102 ms (started: 2024-08-30 17:50:52 -05:00)\n"
     ]
    }
   ],
   "source": [
    "# ROC curve of SVM\n",
    "plt.style.use('seaborn-v0_8')\n",
    "\n",
    "def plot_roc_curve(fper, tper):\n",
    "    plt.plot(fper, tper, color='blue', label='ROC')\n",
    "    plt.plot([0, 1], [0, 1], color='green', linestyle='--')\n",
    "    plt.xlabel('False Positive Rate')\n",
    "    plt.ylabel('True Positive Rate')\n",
    "    plt.title('Receiver Operating Characteristic Curve')\n",
    "    plt.legend()\n",
    "    plt.show()\n",
    "    \n",
    "fper, tper, thresholds = roc_curve(expected_ys, predicted_ys)\n",
    "plot_roc_curve(fper, tper)"
   ]
  },
  {
   "cell_type": "markdown",
   "id": "d7efe547-ea0e-485a-bf58-f30a248d5044",
   "metadata": {},
   "source": [
    "### QSV"
   ]
  },
  {
   "cell_type": "code",
   "execution_count": 271,
   "id": "50a419ed-d619-415c-8852-60c1bb2dfc42",
   "metadata": {},
   "outputs": [
    {
     "name": "stdout",
     "output_type": "stream",
     "text": [
      "time: 667 µs (started: 2024-08-25 21:24:26 -05:00)\n"
     ]
    }
   ],
   "source": [
    "# from sklearn.compose import ColumnTransformer\n",
    "# from sklearn.preprocessing import StandardScaler , OneHotEncoder , MinMaxScaler , OrdinalEncoder\n",
    "\n",
    "# std_list=list(dataset_num)\n",
    "# cat_list=list(dataset_cat)\n",
    "# full_pipeline=ColumnTransformer([\n",
    "#     (\"std\" , MinMaxScaler() , std_list),\n",
    "#     (\"1hot\" ,OneHotEncoder(handle_unknown = \"ignore\")  , cat_list),\n",
    "# ])\n",
    "# x_train_prepared=full_pipeline.fit_transform(X_train)\n",
    "# # x_train_prepared.toarray()\n",
    "\n",
    "# x_prepared = full_pipeline.fit_transform(X_train)\n",
    "# x_train_prepared.toarray()\n",
    "# x_test_prepared = full_pipeline.transform(X_test)"
   ]
  },
  {
   "cell_type": "code",
   "execution_count": 272,
   "id": "4b17c049-4b7e-47f9-b948-fd7049b2b047",
   "metadata": {},
   "outputs": [
    {
     "name": "stdout",
     "output_type": "stream",
     "text": [
      "time: 488 µs (started: 2024-08-25 21:24:27 -05:00)\n"
     ]
    }
   ],
   "source": [
    "# X = data[['ca','cp','thal','exang','slope']]\n",
    "# y = data['target']\n",
    "\n",
    "# X_train, X_test, y_train, y_test = train_test_split(X, y, test_size=0.20, random_state=42)\n",
    "\n",
    "# samples = np.append(x_train_prepared, x_test_prepared, axis=0)\n",
    "# minmax_scaler = MinMaxScaler((0, 1)).fit(samples)\n",
    "# X_train = minmax_scaler.transform(X_train)\n",
    "# X_test = minmax_scaler.transform(X_test)\n",
    "# x_test_prepared\n"
   ]
  },
  {
   "cell_type": "code",
   "execution_count": 273,
   "id": "3c48b18e-e4db-4a23-90af-03f25a16f1bd",
   "metadata": {},
   "outputs": [
    {
     "name": "stdout",
     "output_type": "stream",
     "text": [
      "time: 5.84 ms (started: 2024-08-25 21:24:29 -05:00)\n"
     ]
    }
   ],
   "source": [
    "X_train, X_test, y_train, y_test = train_test_split(X, y, test_size=0.20, random_state=42)\n",
    "\n",
    "# samples = np.append(X_train, X_test, axis=0)\n",
    "# minmax_scaler = MinMaxScaler((0, 1)).fit(samples)\n",
    "# X_train = minmax_scaler.transform(X_train)\n",
    "# X_test = minmax_scaler.transform(X_test)"
   ]
  },
  {
   "cell_type": "code",
   "execution_count": 274,
   "id": "5bd52161-666e-4d09-9433-2ce284bcad9f",
   "metadata": {},
   "outputs": [
    {
     "name": "stdout",
     "output_type": "stream",
     "text": [
      "time: 1.99 ms (started: 2024-08-25 21:24:30 -05:00)\n"
     ]
    }
   ],
   "source": [
    "samples = np.append(X_train, X_test, axis=0)"
   ]
  },
  {
   "cell_type": "code",
   "execution_count": 275,
   "id": "f3e5eaed-327c-41bc-823c-134e5b9d9342",
   "metadata": {},
   "outputs": [
    {
     "name": "stdout",
     "output_type": "stream",
     "text": [
      "time: 7.74 ms (started: 2024-08-25 21:24:31 -05:00)\n"
     ]
    }
   ],
   "source": [
    "minmax_scaler = MinMaxScaler((0, 1)).fit(samples)\n",
    "X_train = minmax_scaler.transform(X_train)\n",
    "X_test = minmax_scaler.transform(X_test)"
   ]
  },
  {
   "cell_type": "code",
   "execution_count": 276,
   "id": "b698f72b-3654-4baf-ad76-fb3e9bc34969",
   "metadata": {},
   "outputs": [
    {
     "name": "stdout",
     "output_type": "stream",
     "text": [
      "time: 834 µs (started: 2024-08-25 21:24:31 -05:00)\n"
     ]
    }
   ],
   "source": [
    "# number of qubits is equal to the number of features\n",
    "num_qubits = 5\n",
    "# regularization parameter\n",
    "C = 1000"
   ]
  },
  {
   "cell_type": "code",
   "execution_count": null,
   "id": "17c538f4-cc2c-4329-afb0-098f734c1490",
   "metadata": {},
   "outputs": [],
   "source": []
  },
  {
   "cell_type": "code",
   "execution_count": 277,
   "id": "c3dd732e-0dbb-4289-8ec4-b2de5e891919",
   "metadata": {},
   "outputs": [
    {
     "name": "stdout",
     "output_type": "stream",
     "text": [
      "time: 30.1 ms (started: 2024-08-25 21:24:38 -05:00)\n"
     ]
    }
   ],
   "source": [
    "fidelity = ComputeUncompute(sampler=Sampler())\n",
    "feature_map = ZFeatureMap(feature_dimension=num_qubits, reps=2) # ZZFeatureMap(2)\n",
    "new_kernel = FidelityQuantumKernel(feature_map=feature_map, fidelity=fidelity)\n",
    "qsvc = QSVC(quantum_kernel=new_kernel, C=C)"
   ]
  },
  {
   "cell_type": "code",
   "execution_count": 278,
   "id": "0db1c7b0-6b3c-4dd5-ae4f-9e7b1ae140d1",
   "metadata": {},
   "outputs": [
    {
     "data": {
      "text/plain": [
       "(750, 7)"
      ]
     },
     "execution_count": 278,
     "metadata": {},
     "output_type": "execute_result"
    },
    {
     "name": "stdout",
     "output_type": "stream",
     "text": [
      "time: 3.71 ms (started: 2024-08-25 21:24:38 -05:00)\n"
     ]
    }
   ],
   "source": [
    "X_train.shape"
   ]
  },
  {
   "cell_type": "code",
   "execution_count": 279,
   "id": "cf3b4e74-a1df-4f24-8a74-a89c0ecfa425",
   "metadata": {},
   "outputs": [
    {
     "data": {
      "text/plain": [
       "(188, 7)"
      ]
     },
     "execution_count": 279,
     "metadata": {},
     "output_type": "execute_result"
    },
    {
     "name": "stdout",
     "output_type": "stream",
     "text": [
      "time: 2.51 ms (started: 2024-08-25 21:24:39 -05:00)\n"
     ]
    }
   ],
   "source": [
    "X_test.shape"
   ]
  },
  {
   "cell_type": "code",
   "execution_count": null,
   "id": "b2df9a4a-55a8-42fb-bb43-6438e5c1c21c",
   "metadata": {},
   "outputs": [],
   "source": [
    "\n",
    "\n"
   ]
  },
  {
   "cell_type": "code",
   "execution_count": 280,
   "id": "e1fe6ae8-3271-4536-86a1-6596535c456e",
   "metadata": {},
   "outputs": [
    {
     "name": "stdout",
     "output_type": "stream",
     "text": [
      "CPU times: user 14 µs, sys: 2 µs, total: 16 µs\n",
      "Wall time: 23.8 µs\n"
     ]
    },
    {
     "data": {
      "text/plain": [
       "(188, 7)"
      ]
     },
     "execution_count": 280,
     "metadata": {},
     "output_type": "execute_result"
    },
    {
     "name": "stdout",
     "output_type": "stream",
     "text": [
      "time: 6.75 ms (started: 2024-08-25 21:24:44 -05:00)\n"
     ]
    }
   ],
   "source": [
    "%%time\n",
    "X_test.shape"
   ]
  },
  {
   "cell_type": "code",
   "execution_count": 281,
   "id": "8451fc96-fc06-497e-94a3-8dd8f797a3b7",
   "metadata": {},
   "outputs": [
    {
     "name": "stdout",
     "output_type": "stream",
     "text": [
      "QSVC classification test score: 0.898936170212766\n",
      "time: 17min 10s (started: 2024-08-25 21:24:44 -05:00)\n"
     ]
    }
   ],
   "source": [
    "# training\n",
    "\n",
    "qsvc.fit(X_train,y_train)\n",
    "\n",
    "# testing\n",
    "qsvc_score = qsvc.score(X_test, y_test)\n",
    "print(f\"QSVC classification test score: {qsvc_score}\")"
   ]
  },
  {
   "cell_type": "markdown",
   "id": "6efe5337-d6d1-427f-8868-6f2f8173524a",
   "metadata": {},
   "source": [
    "## Qsvc performance"
   ]
  },
  {
   "cell_type": "code",
   "execution_count": 282,
   "id": "871fa3cb-872e-4661-8440-ffe6375dd0ef",
   "metadata": {},
   "outputs": [
    {
     "name": "stdout",
     "output_type": "stream",
     "text": [
      "Classification report: \n",
      "               precision    recall  f1-score   support\n",
      "\n",
      "           0       0.92      0.89      0.91       102\n",
      "           1       0.88      0.91      0.89        86\n",
      "\n",
      "    accuracy                           0.90       188\n",
      "   macro avg       0.90      0.90      0.90       188\n",
      "weighted avg       0.90      0.90      0.90       188\n",
      "\n",
      "Confusion matrix: \n",
      " [[91 11]\n",
      " [ 8 78]]\n",
      "time: 4min 52s (started: 2024-08-25 21:55:05 -05:00)\n"
     ]
    }
   ],
   "source": [
    "# classification report of QSVC\n",
    "expected_y = y_test\n",
    "predicted_y = qsvc.predict(X_test) \n",
    "\n",
    "# print classification report and confusion matrix for the classifier\n",
    "print(\"Classification report: \\n\", metrics.classification_report(expected_y, predicted_y))\n",
    "print(\"Confusion matrix: \\n\", metrics.confusion_matrix(expected_y, predicted_y))"
   ]
  },
  {
   "cell_type": "code",
   "execution_count": 283,
   "id": "5895bd19-d957-45d1-aa9f-f413ad10e24f",
   "metadata": {},
   "outputs": [
    {
     "data": {
      "image/png": "[encoded data removed]",
      "text/plain": [
       "<Figure size 500x400 with 2 Axes>"
      ]
     },
     "metadata": {},
     "output_type": "display_data"
    },
    {
     "name": "stdout",
     "output_type": "stream",
     "text": [
      "time: 154 ms (started: 2024-08-25 22:19:40 -05:00)\n"
     ]
    }
   ],
   "source": [
    "# confusion matrix of QSVC\n",
    "def cm_analysis(y_true, y_pred, labels, ymap=None, figsize=(5,4)): \n",
    "    if ymap is not None: \n",
    "        y_pred = [ymap[yi] for yi in y_pred] \n",
    "        y_true = [ymap[yi] for yi in y_true] \n",
    "        labels = [ymap[yi] for yi in labels]\n",
    "    cm = confusion_matrix(y_true, y_pred, labels=labels) \n",
    "    cm_sum = np.sum(cm, axis=1, keepdims=True) \n",
    "    cm_perc = cm / cm_sum.astype(float) * 100 \n",
    "    annot = np.empty_like(cm).astype(str) \n",
    "    nrows, ncols = cm.shape \n",
    "    for i in range(nrows): \n",
    "        for j in range(ncols): \n",
    "            c = cm[i, j] \n",
    "            p = cm_perc[i, j] \n",
    "            if i == j: \n",
    "                s = cm_sum[i] \n",
    "                annot[i, j] = '%.1f%%\\n%d/%d' % (p, c, s) \n",
    "            elif c == 0: \n",
    "                annot[i, j] = '' \n",
    "            else: \n",
    "                annot[i, j] = '%.1f%%\\n%d' % (p, c)\n",
    "    cm = pd.DataFrame(cm, index=labels, columns=labels) \n",
    "    cm.index.name = 'Actual' \n",
    "    cm.columns.name = 'Predicted' \n",
    "    fig, ax = plt.subplots(figsize=figsize) \n",
    "    sns.heatmap(cm, annot=annot, fmt='', ax=ax) \n",
    "    \n",
    "cm_analysis(y_test, predicted_y, labels=[0,1], ymap=None, figsize=(5,4)) "
   ]
  },
  {
   "cell_type": "code",
   "execution_count": 284,
   "id": "6831be93-4153-4eec-b096-073a846924b7",
   "metadata": {},
   "outputs": [
    {
     "data": {
      "image/png": "[encoded data removed]",
      "text/plain": [
       "<Figure size 800x550 with 1 Axes>"
      ]
     },
     "metadata": {},
     "output_type": "display_data"
    },
    {
     "name": "stdout",
     "output_type": "stream",
     "text": [
      "time: 106 ms (started: 2024-08-25 22:20:23 -05:00)\n"
     ]
    }
   ],
   "source": [
    "# ROC curve of QSVC\n",
    "plt.style.use('seaborn-v0_8')\n",
    "\n",
    "def plot_roc_curve(fper, tper):\n",
    "    plt.plot(fper, tper, color='blue', label='ROC')\n",
    "    plt.plot([0, 1], [0, 1], color='green', linestyle='--')\n",
    "    plt.xlabel('False Positive Rate')\n",
    "    plt.ylabel('True Positive Rate')\n",
    "    plt.title('Receiver Operating Characteristic Curve')\n",
    "    plt.legend()\n",
    "    plt.show()\n",
    "    \n",
    "fper, tper, thresholds = roc_curve(expected_y, predicted_y)\n",
    "plot_roc_curve(fper, tper)"
   ]
  },
  {
   "cell_type": "code",
   "execution_count": null,
   "id": "ef416d6f-f230-4093-b8b5-b4c8f7ee1e90",
   "metadata": {},
   "outputs": [],
   "source": []
  }
 ],
 "metadata": {
  "kernelspec": {
   "display_name": "Python 3 (ipykernel)",
   "language": "python",
   "name": "python3"
  },
  "language_info": {
   "codemirror_mode": {
    "name": "ipython",
    "version": 3
   },
   "file_extension": ".py",
   "mimetype": "text/x-python",
   "name": "python",
   "nbconvert_exporter": "python",
   "pygments_lexer": "ipython3",
   "version": "3.12.2"
  }
 },
 "nbformat": 4,
 "nbformat_minor": 5
}
